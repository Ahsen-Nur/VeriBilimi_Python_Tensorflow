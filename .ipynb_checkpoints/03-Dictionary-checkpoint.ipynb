{
 "cells": [
  {
   "cell_type": "code",
   "execution_count": null,
   "id": "c9fc9ee8-67c8-4ef6-b1c0-00bcb432b193",
   "metadata": {},
   "outputs": [],
   "source": [
    "#koleksiyondur, key-value pairing"
   ]
  },
  {
   "cell_type": "code",
   "execution_count": 4,
   "id": "7b7294f8-e3ac-46ae-ae09-39246ba946ad",
   "metadata": {},
   "outputs": [],
   "source": [
    "sozluk = {\"elma\" : \"100 kalori\", \"muz\" : \"200\"}"
   ]
  },
  {
   "cell_type": "code",
   "execution_count": 5,
   "id": "24b6eedc-9cd3-450c-b714-e6bc4ae22191",
   "metadata": {},
   "outputs": [
    {
     "data": {
      "text/plain": [
       "dict"
      ]
     },
     "execution_count": 5,
     "metadata": {},
     "output_type": "execute_result"
    }
   ],
   "source": [
    "type(sozluk)"
   ]
  },
  {
   "cell_type": "code",
   "execution_count": 6,
   "id": "7d3f7fb4-e41a-481c-b20b-d7bce67dccb5",
   "metadata": {},
   "outputs": [
    {
     "data": {
      "text/plain": [
       "'100 kalori'"
      ]
     },
     "execution_count": 6,
     "metadata": {},
     "output_type": "execute_result"
    }
   ],
   "source": [
    "sozluk[\"elma\"]"
   ]
  },
  {
   "cell_type": "code",
   "execution_count": 7,
   "id": "0a14037f-939f-4d2c-8cbf-7b0e3162844e",
   "metadata": {},
   "outputs": [],
   "source": [
    "sozluk[\"elma\"] = \"400 kalori\""
   ]
  },
  {
   "cell_type": "code",
   "execution_count": 8,
   "id": "cdef2104-6ca0-48f3-a849-bf84d185ecdc",
   "metadata": {},
   "outputs": [
    {
     "name": "stdout",
     "output_type": "stream",
     "text": [
      "{'elma': '400 kalori', 'muz': '200'}\n"
     ]
    }
   ],
   "source": [
    "print(sozluk)"
   ]
  },
  {
   "cell_type": "code",
   "execution_count": 9,
   "id": "0529b28f-ad5c-488f-a735-bb2324ec524f",
   "metadata": {},
   "outputs": [
    {
     "data": {
      "text/plain": [
       "{'elma': '400 kalori', 'muz': '200'}"
      ]
     },
     "execution_count": 9,
     "metadata": {},
     "output_type": "execute_result"
    }
   ],
   "source": [
    "sozluk"
   ]
  },
  {
   "cell_type": "code",
   "execution_count": 10,
   "id": "11b948e3-e014-443e-8c6f-c60103090b5e",
   "metadata": {},
   "outputs": [],
   "source": [
    "sozluk2 = {1: \"ankara\", 2:\"istanbul\"}"
   ]
  },
  {
   "cell_type": "code",
   "execution_count": 11,
   "id": "543847ab-759c-406e-87aa-1521b8c5cd9b",
   "metadata": {},
   "outputs": [
    {
     "data": {
      "text/plain": [
       "'ankara'"
      ]
     },
     "execution_count": 11,
     "metadata": {},
     "output_type": "execute_result"
    }
   ],
   "source": [
    "sozluk2[1]"
   ]
  },
  {
   "cell_type": "code",
   "execution_count": 12,
   "id": "cebfd321-8157-429f-9820-d02ac080e991",
   "metadata": {},
   "outputs": [],
   "source": [
    "sozluk3 = {\"key1\":100, \"key2\":[10, 20, 30, 40, 4.5, \"atıl\"], \"key3\":{\"key4\":4}}"
   ]
  },
  {
   "cell_type": "code",
   "execution_count": 13,
   "id": "d1db828a-c22f-4704-90c3-468e5acbc157",
   "metadata": {},
   "outputs": [
    {
     "data": {
      "text/plain": [
       "dict_keys(['key1', 'key2', 'key3'])"
      ]
     },
     "execution_count": 13,
     "metadata": {},
     "output_type": "execute_result"
    }
   ],
   "source": [
    "sozluk3.keys()"
   ]
  },
  {
   "cell_type": "code",
   "execution_count": 14,
   "id": "9139ddc2-a3e5-4e0a-9509-c81ffa540ef3",
   "metadata": {},
   "outputs": [
    {
     "data": {
      "text/plain": [
       "dict_values([100, [10, 20, 30, 40, 4.5, 'atıl'], {'key4': 4}])"
      ]
     },
     "execution_count": 14,
     "metadata": {},
     "output_type": "execute_result"
    }
   ],
   "source": [
    "sozluk3.values()"
   ]
  },
  {
   "cell_type": "code",
   "execution_count": 15,
   "id": "c39480bf-eee6-4b0d-a812-536567409e2a",
   "metadata": {},
   "outputs": [
    {
     "data": {
      "text/plain": [
       "'atıl'"
      ]
     },
     "execution_count": 15,
     "metadata": {},
     "output_type": "execute_result"
    }
   ],
   "source": [
    "sozluk3[\"key2\"][5]"
   ]
  },
  {
   "cell_type": "code",
   "execution_count": 16,
   "id": "03a2af7f-82ea-4e4d-bb36-92c810e20394",
   "metadata": {},
   "outputs": [
    {
     "ename": "KeyError",
     "evalue": "1",
     "output_type": "error",
     "traceback": [
      "\u001b[0;31m---------------------------------------------------------------------------\u001b[0m",
      "\u001b[0;31mKeyError\u001b[0m                                  Traceback (most recent call last)",
      "Cell \u001b[0;32mIn[16], line 1\u001b[0m\n\u001b[0;32m----> 1\u001b[0m sozluk3[\u001b[38;5;124m\"\u001b[39m\u001b[38;5;124mkey3\u001b[39m\u001b[38;5;124m\"\u001b[39m][\u001b[38;5;241m1\u001b[39m]\n",
      "\u001b[0;31mKeyError\u001b[0m: 1"
     ]
    }
   ],
   "source": [
    "sozluk3[\"key3\"][1]"
   ]
  },
  {
   "cell_type": "code",
   "execution_count": null,
   "id": "84556000-12b0-4f58-8568-0cfb5bb43d20",
   "metadata": {},
   "outputs": [],
   "source": []
  }
 ],
 "metadata": {
  "kernelspec": {
   "display_name": "Python 3 (ipykernel)",
   "language": "python",
   "name": "python3"
  },
  "language_info": {
   "codemirror_mode": {
    "name": "ipython",
    "version": 3
   },
   "file_extension": ".py",
   "mimetype": "text/x-python",
   "name": "python",
   "nbconvert_exporter": "python",
   "pygments_lexer": "ipython3",
   "version": "3.12.7"
  }
 },
 "nbformat": 4,
 "nbformat_minor": 5
}
