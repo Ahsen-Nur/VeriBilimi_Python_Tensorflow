{
 "cells": [
  {
   "cell_type": "code",
   "execution_count": 1,
   "id": "2f74f951-e076-428f-ad7d-2d86558eabf1",
   "metadata": {},
   "outputs": [],
   "source": [
    "def bolme(no):\n",
    "    return no/2"
   ]
  },
  {
   "cell_type": "code",
   "execution_count": 2,
   "id": "4b2cbd13-0ed1-4cc5-8f92-6e986eeae355",
   "metadata": {},
   "outputs": [],
   "source": [
    "liste = [1,2,3,4,5,6,7,8,9,10]"
   ]
  },
  {
   "cell_type": "code",
   "execution_count": 3,
   "id": "ef0fc4da-329e-4ae9-a5b9-33ba245b39d6",
   "metadata": {},
   "outputs": [],
   "source": [
    "liste1 = []"
   ]
  },
  {
   "cell_type": "code",
   "execution_count": 4,
   "id": "888f5092-90c2-4aed-8a82-31ba372ce0f7",
   "metadata": {},
   "outputs": [],
   "source": [
    "for eleman in liste:\n",
    "    liste1.append(bolme(eleman))"
   ]
  },
  {
   "cell_type": "code",
   "execution_count": 5,
   "id": "e9222473-0a01-4ca5-80f7-4cdf917bc955",
   "metadata": {},
   "outputs": [
    {
     "data": {
      "text/plain": [
       "[0.5, 1.0, 1.5, 2.0, 2.5, 3.0, 3.5, 4.0, 4.5, 5.0]"
      ]
     },
     "execution_count": 5,
     "metadata": {},
     "output_type": "execute_result"
    }
   ],
   "source": [
    "liste1"
   ]
  },
  {
   "cell_type": "markdown",
   "id": "fd83f176-588e-4b85-96d7-f0d729d9bb9d",
   "metadata": {},
   "source": [
    ">**map**"
   ]
  },
  {
   "cell_type": "code",
   "execution_count": 7,
   "id": "6e3bbcad-dd08-415c-aadf-b0f0e5531de2",
   "metadata": {},
   "outputs": [
    {
     "data": {
      "text/plain": [
       "[0.5, 1.0, 1.5, 2.0, 2.5, 3.0, 3.5, 4.0, 4.5, 5.0]"
      ]
     },
     "execution_count": 7,
     "metadata": {},
     "output_type": "execute_result"
    }
   ],
   "source": [
    "list(map(bolme, liste))"
   ]
  },
  {
   "cell_type": "code",
   "execution_count": 4,
   "id": "82f97f4a-935b-46e3-9c41-69507c4f06c1",
   "metadata": {},
   "outputs": [],
   "source": [
    "def fonk(str):\n",
    "    return \"a\" in str"
   ]
  },
  {
   "cell_type": "code",
   "execution_count": 5,
   "id": "77d1d806-acea-4065-bba7-674b9dd679e0",
   "metadata": {},
   "outputs": [
    {
     "data": {
      "text/plain": [
       "True"
      ]
     },
     "execution_count": 5,
     "metadata": {},
     "output_type": "execute_result"
    }
   ],
   "source": [
    "\"a\" in \"atıl\""
   ]
  },
  {
   "cell_type": "code",
   "execution_count": 6,
   "id": "1e511f3b-8d9e-42c9-ad17-b3f1cfe33b7f",
   "metadata": {},
   "outputs": [
    {
     "data": {
      "text/plain": [
       "False"
      ]
     },
     "execution_count": 6,
     "metadata": {},
     "output_type": "execute_result"
    }
   ],
   "source": [
    "\"a\" in \"Atıl\""
   ]
  },
  {
   "cell_type": "code",
   "execution_count": 7,
   "id": "7989d147-1059-4a34-ab84-c6c62409c3b7",
   "metadata": {},
   "outputs": [
    {
     "data": {
      "text/plain": [
       "True"
      ]
     },
     "execution_count": 7,
     "metadata": {},
     "output_type": "execute_result"
    }
   ],
   "source": [
    "fonk(\"atıl\")"
   ]
  },
  {
   "cell_type": "code",
   "execution_count": 8,
   "id": "573981d6-dffb-450c-8c2c-fd26acc04657",
   "metadata": {},
   "outputs": [],
   "source": [
    "l1 = [\"ahsen\", \"nur\", \"emine\", \"güllü\"]"
   ]
  },
  {
   "cell_type": "code",
   "execution_count": 10,
   "id": "54504122-a9b4-48d2-be50-9ae8282d533e",
   "metadata": {},
   "outputs": [],
   "source": [
    "sonuc = list(map(fonk,l1)) "
   ]
  },
  {
   "cell_type": "code",
   "execution_count": 11,
   "id": "71314906-488d-4b7a-a440-bc25221c1ef2",
   "metadata": {},
   "outputs": [
    {
     "data": {
      "text/plain": [
       "[True, False, False, False]"
      ]
     },
     "execution_count": 11,
     "metadata": {},
     "output_type": "execute_result"
    }
   ],
   "source": [
    "sonuc"
   ]
  },
  {
   "cell_type": "code",
   "execution_count": 12,
   "id": "3f0e2baf-a923-4440-b759-dd1db2213dbc",
   "metadata": {},
   "outputs": [
    {
     "data": {
      "text/plain": [
       "1"
      ]
     },
     "execution_count": 12,
     "metadata": {},
     "output_type": "execute_result"
    }
   ],
   "source": [
    "sonuc.count(True)"
   ]
  },
  {
   "cell_type": "markdown",
   "id": "a4c674bb-0789-4f24-a3ac-3ee348a46754",
   "metadata": {},
   "source": [
    ">**filter**"
   ]
  },
  {
   "cell_type": "code",
   "execution_count": 14,
   "id": "4750e4ca-eee1-4c40-8ae1-997ee2f070dc",
   "metadata": {},
   "outputs": [
    {
     "data": {
      "text/plain": [
       "['ahsen']"
      ]
     },
     "execution_count": 14,
     "metadata": {},
     "output_type": "execute_result"
    }
   ],
   "source": [
    "list(filter(fonk, l1))"
   ]
  },
  {
   "cell_type": "markdown",
   "id": "2b8626c9-fa6b-4d68-b0a7-31a63bc1db44",
   "metadata": {},
   "source": [
    ">**lambda**"
   ]
  },
  {
   "cell_type": "code",
   "execution_count": 13,
   "id": "68e3e5c8-57e2-4e83-998f-728331d570fd",
   "metadata": {},
   "outputs": [],
   "source": [
    "carp = lambda no : no*3"
   ]
  },
  {
   "cell_type": "code",
   "execution_count": 14,
   "id": "94b9f9c1-6af5-41de-aed3-47c3fe2c5d5b",
   "metadata": {},
   "outputs": [
    {
     "data": {
      "text/plain": [
       "30"
      ]
     },
     "execution_count": 14,
     "metadata": {},
     "output_type": "execute_result"
    }
   ],
   "source": [
    "carp(10)"
   ]
  },
  {
   "cell_type": "code",
   "execution_count": 15,
   "id": "be09649b-1b01-4ec1-997e-da177e5a5810",
   "metadata": {},
   "outputs": [],
   "source": [
    "l3 = [10, 20, 30]"
   ]
  },
  {
   "cell_type": "code",
   "execution_count": 16,
   "id": "461dc6f8-7f09-4b6e-9246-68087f2ab3cf",
   "metadata": {},
   "outputs": [
    {
     "data": {
      "text/plain": [
       "[40, 80, 120]"
      ]
     },
     "execution_count": 16,
     "metadata": {},
     "output_type": "execute_result"
    }
   ],
   "source": [
    "list(map(lambda no : no*4, l3))"
   ]
  }
 ],
 "metadata": {
  "kernelspec": {
   "display_name": "Python 3 (ipykernel)",
   "language": "python",
   "name": "python3"
  },
  "language_info": {
   "codemirror_mode": {
    "name": "ipython",
    "version": 3
   },
   "file_extension": ".py",
   "mimetype": "text/x-python",
   "name": "python",
   "nbconvert_exporter": "python",
   "pygments_lexer": "ipython3",
   "version": "3.12.7"
  }
 },
 "nbformat": 4,
 "nbformat_minor": 5
}
