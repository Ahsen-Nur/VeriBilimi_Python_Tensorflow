{
 "cells": [
  {
   "cell_type": "code",
   "execution_count": 1,
   "id": "efd4e4ad-4ddf-469b-b789-70fc3b53c0b7",
   "metadata": {},
   "outputs": [],
   "source": [
    "#koleksiyonlar birden fazla veriyi aynı yapı içerisinde tutmayı sağlayan "
   ]
  },
  {
   "cell_type": "code",
   "execution_count": 3,
   "id": "80ba2a22-060c-432e-b0df-1d5627a74220",
   "metadata": {},
   "outputs": [
    {
     "ename": "TypeError",
     "evalue": "'str' object does not support item assignment",
     "output_type": "error",
     "traceback": [
      "\u001b[0;31m---------------------------------------------------------------------------\u001b[0m",
      "\u001b[0;31mTypeError\u001b[0m                                 Traceback (most recent call last)",
      "Cell \u001b[0;32mIn[3], line 2\u001b[0m\n\u001b[1;32m      1\u001b[0m isim \u001b[38;5;241m=\u001b[39m \u001b[38;5;124m\"\u001b[39m\u001b[38;5;124mahsen\u001b[39m\u001b[38;5;124m\"\u001b[39m\n\u001b[0;32m----> 2\u001b[0m isim [\u001b[38;5;241m0\u001b[39m] \u001b[38;5;241m=\u001b[39m \u001b[38;5;124m\"\u001b[39m\u001b[38;5;124mb\u001b[39m\u001b[38;5;124m\"\u001b[39m\n",
      "\u001b[0;31mTypeError\u001b[0m: 'str' object does not support item assignment"
     ]
    }
   ],
   "source": [
    "isim = \"ahsen\"\n",
    "isim [0] = \"b\""
   ]
  },
  {
   "cell_type": "code",
   "execution_count": 5,
   "id": "13e10130-15e3-4af5-ba1a-a6e7edc617b4",
   "metadata": {},
   "outputs": [
    {
     "name": "stdout",
     "output_type": "stream",
     "text": [
      "[10, 20, 30, 40, 50, 60]\n"
     ]
    }
   ],
   "source": [
    "liste = [10, 20, 30, 40, 50]\n",
    "liste.append(60)\n",
    "print(liste)"
   ]
  },
  {
   "cell_type": "code",
   "execution_count": 9,
   "id": "3794ee25-ad95-45c3-a1c2-9c7bc8997348",
   "metadata": {},
   "outputs": [
    {
     "name": "stdout",
     "output_type": "stream",
     "text": [
      "[]\n"
     ]
    }
   ],
   "source": [
    "liste.clear()\n",
    "print(liste)"
   ]
  },
  {
   "cell_type": "code",
   "execution_count": 10,
   "id": "c5182f96-13b0-4b5b-81ad-a2e12505ccbf",
   "metadata": {},
   "outputs": [
    {
     "data": {
      "text/plain": [
       "type"
      ]
     },
     "execution_count": 10,
     "metadata": {},
     "output_type": "execute_result"
    }
   ],
   "source": [
    "type(list)"
   ]
  },
  {
   "cell_type": "code",
   "execution_count": 11,
   "id": "35d18070-8e71-4645-af56-0bc2bfcdcad0",
   "metadata": {},
   "outputs": [],
   "source": [
    "liste = [10, 20, 30, 40, 50]"
   ]
  },
  {
   "cell_type": "code",
   "execution_count": 12,
   "id": "892cfa31-0e00-4af2-a3d4-4c13641f4edd",
   "metadata": {},
   "outputs": [
    {
     "data": {
      "text/plain": [
       "20"
      ]
     },
     "execution_count": 12,
     "metadata": {},
     "output_type": "execute_result"
    }
   ],
   "source": [
    "liste[1]"
   ]
  },
  {
   "cell_type": "code",
   "execution_count": 13,
   "id": "4fb9bb2d-8bd0-4d8c-b2c0-f1fad931706c",
   "metadata": {},
   "outputs": [
    {
     "name": "stdout",
     "output_type": "stream",
     "text": [
      "[10, 90, 30, 40, 50]\n"
     ]
    }
   ],
   "source": [
    "liste[1] = 90\n",
    "print(liste)"
   ]
  },
  {
   "cell_type": "code",
   "execution_count": 14,
   "id": "78dc0600-2616-45f1-bf00-928728096b70",
   "metadata": {},
   "outputs": [
    {
     "data": {
      "text/plain": [
       "50"
      ]
     },
     "execution_count": 14,
     "metadata": {},
     "output_type": "execute_result"
    }
   ],
   "source": [
    "liste.pop()"
   ]
  },
  {
   "cell_type": "code",
   "execution_count": 15,
   "id": "97702ad9-7b83-4901-af39-6344c09ec499",
   "metadata": {},
   "outputs": [
    {
     "name": "stdout",
     "output_type": "stream",
     "text": [
      "[10, 90, 30, 40]\n"
     ]
    }
   ],
   "source": [
    "print(liste)"
   ]
  },
  {
   "cell_type": "code",
   "execution_count": 16,
   "id": "8cded7ce-1727-4839-9ec2-1f1840aec885",
   "metadata": {},
   "outputs": [
    {
     "name": "stdout",
     "output_type": "stream",
     "text": [
      "[10, 30, 40]\n"
     ]
    }
   ],
   "source": [
    "liste.remove(90)\n",
    "print(liste)"
   ]
  },
  {
   "cell_type": "code",
   "execution_count": 17,
   "id": "9a4dbd40-f8f1-4271-8c3b-558731fe6624",
   "metadata": {},
   "outputs": [],
   "source": [
    "liste.append(10)"
   ]
  },
  {
   "cell_type": "code",
   "execution_count": 18,
   "id": "fbece53a-1ee2-4352-84d7-928448d3f56a",
   "metadata": {},
   "outputs": [
    {
     "data": {
      "text/plain": [
       "2"
      ]
     },
     "execution_count": 18,
     "metadata": {},
     "output_type": "execute_result"
    }
   ],
   "source": [
    "liste.count(10)"
   ]
  },
  {
   "cell_type": "code",
   "execution_count": 19,
   "id": "b92b58ce-03a1-4397-b612-cb626078ffaa",
   "metadata": {},
   "outputs": [],
   "source": [
    "list1 = [\"ali\", \"ahmet\", \"mehmet\"]\n",
    "list2 = [\"ayşe\", \"zeynep\", \"fatma\"]"
   ]
  },
  {
   "cell_type": "code",
   "execution_count": 20,
   "id": "24740847-1396-4761-98c4-a80bff18e193",
   "metadata": {},
   "outputs": [
    {
     "name": "stdout",
     "output_type": "stream",
     "text": [
      "['ali', 'ahmet', 'mehmet', 'ayşe', 'zeynep', 'fatma']\n"
     ]
    }
   ],
   "source": [
    "toplam = list1 + list2\n",
    "print(toplam)"
   ]
  },
  {
   "cell_type": "code",
   "execution_count": 21,
   "id": "ca36b20a-37aa-4bdb-a070-6affd090045e",
   "metadata": {},
   "outputs": [
    {
     "data": {
      "text/plain": [
       "['ali',\n",
       " 'ahmet',\n",
       " 'mehmet',\n",
       " 'ali',\n",
       " 'ahmet',\n",
       " 'mehmet',\n",
       " 'ali',\n",
       " 'ahmet',\n",
       " 'mehmet',\n",
       " 'ali',\n",
       " 'ahmet',\n",
       " 'mehmet',\n",
       " 'ali',\n",
       " 'ahmet',\n",
       " 'mehmet']"
      ]
     },
     "execution_count": 21,
     "metadata": {},
     "output_type": "execute_result"
    }
   ],
   "source": [
    "list1 * 5"
   ]
  },
  {
   "cell_type": "code",
   "execution_count": 24,
   "id": "66efa6a4-87fe-4610-b1a1-6ef0c5c0e5ad",
   "metadata": {},
   "outputs": [],
   "source": [
    "list1.reverse()"
   ]
  },
  {
   "cell_type": "code",
   "execution_count": 25,
   "id": "eef8aea9-80c1-420e-a9d3-d3e7aa67e796",
   "metadata": {},
   "outputs": [
    {
     "name": "stdout",
     "output_type": "stream",
     "text": [
      "['mehmet', 'ahmet', 'ali']\n"
     ]
    }
   ],
   "source": [
    "print(list1)"
   ]
  },
  {
   "cell_type": "code",
   "execution_count": 26,
   "id": "89f277a3-3740-4e75-a6a9-7095898f7cbb",
   "metadata": {},
   "outputs": [],
   "source": [
    "karısıkList = [1, 2.3, \"ahsen\"]"
   ]
  },
  {
   "cell_type": "code",
   "execution_count": 27,
   "id": "1c6f9bb5-37bb-44ef-b12e-3e06d1cb84fc",
   "metadata": {},
   "outputs": [
    {
     "data": {
      "text/plain": [
       "1"
      ]
     },
     "execution_count": 27,
     "metadata": {},
     "output_type": "execute_result"
    }
   ],
   "source": [
    "karısıkList[0]"
   ]
  },
  {
   "cell_type": "code",
   "execution_count": 28,
   "id": "67911dc0-18cd-4718-afde-f31603c4f6d5",
   "metadata": {},
   "outputs": [
    {
     "data": {
      "text/plain": [
       "float"
      ]
     },
     "execution_count": 28,
     "metadata": {},
     "output_type": "execute_result"
    }
   ],
   "source": [
    "type(karısıkList[1])"
   ]
  },
  {
   "cell_type": "code",
   "execution_count": 30,
   "id": "434f620b-421d-430d-a779-e3fa7f8179bc",
   "metadata": {},
   "outputs": [],
   "source": [
    "#nested: birbiri içine geçmiş\n",
    "nestedList = [1, 5, \"ahsen\", 4, [6, \"z\"]]"
   ]
  },
  {
   "cell_type": "code",
   "execution_count": 36,
   "id": "bdbdc993-d5b4-4133-a30d-8c96e4cd8f93",
   "metadata": {},
   "outputs": [],
   "source": [
    "a = nestedList[4]"
   ]
  },
  {
   "cell_type": "code",
   "execution_count": 37,
   "id": "1288f84f-a621-4549-bd62-2c734a475b02",
   "metadata": {},
   "outputs": [
    {
     "data": {
      "text/plain": [
       "'z'"
      ]
     },
     "execution_count": 37,
     "metadata": {},
     "output_type": "execute_result"
    }
   ],
   "source": [
    "a[1]"
   ]
  },
  {
   "cell_type": "code",
   "execution_count": 39,
   "id": "c83fe83c-65d4-4b3a-9a55-894e3a0c2544",
   "metadata": {},
   "outputs": [
    {
     "name": "stdout",
     "output_type": "stream",
     "text": [
      "z\n"
     ]
    }
   ],
   "source": [
    "b = nestedList[4][1]\n",
    "print(b)"
   ]
  },
  {
   "cell_type": "code",
   "execution_count": 40,
   "id": "97fe0d3d-e3f5-40fb-a989-bfb24998b9f5",
   "metadata": {},
   "outputs": [],
   "source": [
    "listeler = [[1, 2, 3, [\"a\", \"b\"], 50], 40, 20, [\"z\", 5.5], [3, [\"a\"]]]"
   ]
  },
  {
   "cell_type": "code",
   "execution_count": 41,
   "id": "992269f4-6e89-49d0-bd1f-b12902059a05",
   "metadata": {},
   "outputs": [
    {
     "name": "stdout",
     "output_type": "stream",
     "text": [
      "b\n"
     ]
    }
   ],
   "source": [
    "c = listeler[0][3][1]\n",
    "print(c)"
   ]
  },
  {
   "cell_type": "code",
   "execution_count": null,
   "id": "195891ad-fd6e-4120-95cd-879a430aa14e",
   "metadata": {},
   "outputs": [],
   "source": []
  }
 ],
 "metadata": {
  "kernelspec": {
   "display_name": "Python 3 (ipykernel)",
   "language": "python",
   "name": "python3"
  },
  "language_info": {
   "codemirror_mode": {
    "name": "ipython",
    "version": 3
   },
   "file_extension": ".py",
   "mimetype": "text/x-python",
   "name": "python",
   "nbconvert_exporter": "python",
   "pygments_lexer": "ipython3",
   "version": "3.12.7"
  }
 },
 "nbformat": 4,
 "nbformat_minor": 5
}
