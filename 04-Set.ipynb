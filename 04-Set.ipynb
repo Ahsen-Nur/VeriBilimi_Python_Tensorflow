{
 "cells": [
  {
   "cell_type": "code",
   "execution_count": 1,
   "id": "1be2b7ab-4431-40f9-ba65-36e99b938049",
   "metadata": {},
   "outputs": [],
   "source": [
    "liste = [1, 2, 3, 1, 2, 3]"
   ]
  },
  {
   "cell_type": "code",
   "execution_count": 2,
   "id": "dd100594-84ee-43ab-8e2e-75330f33fa63",
   "metadata": {},
   "outputs": [
    {
     "data": {
      "text/plain": [
       "[1, 2, 3, 1, 2, 3]"
      ]
     },
     "execution_count": 2,
     "metadata": {},
     "output_type": "execute_result"
    }
   ],
   "source": [
    "liste"
   ]
  },
  {
   "cell_type": "code",
   "execution_count": 3,
   "id": "0b5c1838-b622-4851-b374-d22ef8c96aa2",
   "metadata": {},
   "outputs": [
    {
     "data": {
      "text/plain": [
       "list"
      ]
     },
     "execution_count": 3,
     "metadata": {},
     "output_type": "execute_result"
    }
   ],
   "source": [
    "type(liste)"
   ]
  },
  {
   "cell_type": "code",
   "execution_count": 4,
   "id": "c9df313d-b94f-4b79-aa6c-968604c2b07e",
   "metadata": {},
   "outputs": [
    {
     "name": "stdout",
     "output_type": "stream",
     "text": [
      "{1, 2, 3}\n"
     ]
    }
   ],
   "source": [
    "liste1 = set(liste)\n",
    "print(liste1)"
   ]
  },
  {
   "cell_type": "code",
   "execution_count": 5,
   "id": "f0007751-1ad3-46ee-8299-29c70497edec",
   "metadata": {},
   "outputs": [
    {
     "data": {
      "text/plain": [
       "set"
      ]
     },
     "execution_count": 5,
     "metadata": {},
     "output_type": "execute_result"
    }
   ],
   "source": [
    "type(liste1)"
   ]
  },
  {
   "cell_type": "code",
   "execution_count": 6,
   "id": "3bea3c97-e7ee-4659-96a9-b8ef8774818d",
   "metadata": {},
   "outputs": [
    {
     "data": {
      "text/plain": [
       "{1, 2, 3}"
      ]
     },
     "execution_count": 6,
     "metadata": {},
     "output_type": "execute_result"
    }
   ],
   "source": [
    "liste1"
   ]
  },
  {
   "cell_type": "code",
   "execution_count": 10,
   "id": "91c358ea-c5e1-4cdc-b2e3-fcc64b6a8fe9",
   "metadata": {},
   "outputs": [],
   "source": [
    "set1 = {\"a\", \"b\", \"c\", \"a\"}"
   ]
  },
  {
   "cell_type": "code",
   "execution_count": 11,
   "id": "9f93d72a-6cfd-4dc6-a452-23415f0606b1",
   "metadata": {},
   "outputs": [
    {
     "data": {
      "text/plain": [
       "set"
      ]
     },
     "execution_count": 11,
     "metadata": {},
     "output_type": "execute_result"
    }
   ],
   "source": [
    "type(set1)"
   ]
  },
  {
   "cell_type": "code",
   "execution_count": 12,
   "id": "2da68846-0ed3-4e50-b500-f3b04d9fe7c5",
   "metadata": {},
   "outputs": [
    {
     "data": {
      "text/plain": [
       "{'a', 'b', 'c'}"
      ]
     },
     "execution_count": 12,
     "metadata": {},
     "output_type": "execute_result"
    }
   ],
   "source": [
    "set1"
   ]
  },
  {
   "cell_type": "code",
   "execution_count": 13,
   "id": "01130194-34dc-48eb-9885-b7270af2ba31",
   "metadata": {},
   "outputs": [],
   "source": [
    "bosList = []"
   ]
  },
  {
   "cell_type": "code",
   "execution_count": 14,
   "id": "0004e688-29b0-41b3-8d69-58cd9e2679fa",
   "metadata": {},
   "outputs": [
    {
     "data": {
      "text/plain": [
       "[]"
      ]
     },
     "execution_count": 14,
     "metadata": {},
     "output_type": "execute_result"
    }
   ],
   "source": [
    "bosList"
   ]
  },
  {
   "cell_type": "code",
   "execution_count": 15,
   "id": "887cd225-c641-4ed6-8f73-48c59a8f4079",
   "metadata": {},
   "outputs": [
    {
     "data": {
      "text/plain": [
       "list"
      ]
     },
     "execution_count": 15,
     "metadata": {},
     "output_type": "execute_result"
    }
   ],
   "source": [
    "type(bosList)"
   ]
  },
  {
   "cell_type": "code",
   "execution_count": 16,
   "id": "feeaca56-36a0-44f2-a44b-eac13f24b4d6",
   "metadata": {},
   "outputs": [],
   "source": [
    "bosList.append(1)"
   ]
  },
  {
   "cell_type": "code",
   "execution_count": 17,
   "id": "ea67cba7-6cba-4f86-b40a-955f20123881",
   "metadata": {},
   "outputs": [
    {
     "data": {
      "text/plain": [
       "[1]"
      ]
     },
     "execution_count": 17,
     "metadata": {},
     "output_type": "execute_result"
    }
   ],
   "source": [
    "bosList"
   ]
  },
  {
   "cell_type": "code",
   "execution_count": 21,
   "id": "e37f6d32-2332-4cf9-af50-362fc331f218",
   "metadata": {},
   "outputs": [],
   "source": [
    "bosSet = {}"
   ]
  },
  {
   "cell_type": "code",
   "execution_count": 22,
   "id": "2bb02212-9901-4f9e-80d9-5d860b892d81",
   "metadata": {},
   "outputs": [
    {
     "data": {
      "text/plain": [
       "dict"
      ]
     },
     "execution_count": 22,
     "metadata": {},
     "output_type": "execute_result"
    }
   ],
   "source": [
    "type(bosSet)"
   ]
  },
  {
   "cell_type": "code",
   "execution_count": 23,
   "id": "c2408aa9-839a-4b75-906d-6fd5b651cb8c",
   "metadata": {},
   "outputs": [],
   "source": [
    "bosSet1 = set()"
   ]
  },
  {
   "cell_type": "code",
   "execution_count": 24,
   "id": "095e8dc2-e4b7-4e4d-b5c9-a18161b2cf7f",
   "metadata": {},
   "outputs": [
    {
     "data": {
      "text/plain": [
       "set"
      ]
     },
     "execution_count": 24,
     "metadata": {},
     "output_type": "execute_result"
    }
   ],
   "source": [
    "type(bosSet1)"
   ]
  },
  {
   "cell_type": "code",
   "execution_count": null,
   "id": "c5ceab7d-3918-4c7c-bb2d-5648bade7e6d",
   "metadata": {},
   "outputs": [],
   "source": []
  }
 ],
 "metadata": {
  "kernelspec": {
   "display_name": "Python 3 (ipykernel)",
   "language": "python",
   "name": "python3"
  },
  "language_info": {
   "codemirror_mode": {
    "name": "ipython",
    "version": 3
   },
   "file_extension": ".py",
   "mimetype": "text/x-python",
   "name": "python",
   "nbconvert_exporter": "python",
   "pygments_lexer": "ipython3",
   "version": "3.12.7"
  }
 },
 "nbformat": 4,
 "nbformat_minor": 5
}
