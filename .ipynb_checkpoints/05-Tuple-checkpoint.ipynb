{
 "cells": [
  {
   "cell_type": "code",
   "execution_count": 1,
   "id": "ae3d5e8b-f53c-4bf6-8b4c-5b118aee5de1",
   "metadata": {},
   "outputs": [],
   "source": [
    "#immutable(değiştirilemez), listeye benzer"
   ]
  },
  {
   "cell_type": "code",
   "execution_count": 2,
   "id": "7b15872a-4367-4858-8a3c-7c29be0021de",
   "metadata": {},
   "outputs": [],
   "source": [
    "tuple1 = (1, 2, \"a\", 4.5)"
   ]
  },
  {
   "cell_type": "code",
   "execution_count": 3,
   "id": "25d3ef8c-fbd2-4598-916d-efa00f645ae2",
   "metadata": {},
   "outputs": [
    {
     "data": {
      "text/plain": [
       "1"
      ]
     },
     "execution_count": 3,
     "metadata": {},
     "output_type": "execute_result"
    }
   ],
   "source": [
    "tuple1[0]"
   ]
  },
  {
   "cell_type": "code",
   "execution_count": 4,
   "id": "9ae924be-af7e-4cbe-8e96-4346b842cdd8",
   "metadata": {},
   "outputs": [
    {
     "ename": "TypeError",
     "evalue": "'tuple' object does not support item assignment",
     "output_type": "error",
     "traceback": [
      "\u001b[0;31m---------------------------------------------------------------------------\u001b[0m",
      "\u001b[0;31mTypeError\u001b[0m                                 Traceback (most recent call last)",
      "Cell \u001b[0;32mIn[4], line 1\u001b[0m\n\u001b[0;32m----> 1\u001b[0m tuple1[\u001b[38;5;241m0\u001b[39m] \u001b[38;5;241m=\u001b[39m \u001b[38;5;241m99\u001b[39m\n",
      "\u001b[0;31mTypeError\u001b[0m: 'tuple' object does not support item assignment"
     ]
    }
   ],
   "source": [
    "tuple1[0] = 99"
   ]
  },
  {
   "cell_type": "code",
   "execution_count": null,
   "id": "07ff9799-bbbc-4803-8769-9ee431028d1d",
   "metadata": {},
   "outputs": [],
   "source": []
  }
 ],
 "metadata": {
  "kernelspec": {
   "display_name": "Python 3 (ipykernel)",
   "language": "python",
   "name": "python3"
  },
  "language_info": {
   "codemirror_mode": {
    "name": "ipython",
    "version": 3
   },
   "file_extension": ".py",
   "mimetype": "text/x-python",
   "name": "python",
   "nbconvert_exporter": "python",
   "pygments_lexer": "ipython3",
   "version": "3.12.7"
  }
 },
 "nbformat": 4,
 "nbformat_minor": 5
}
