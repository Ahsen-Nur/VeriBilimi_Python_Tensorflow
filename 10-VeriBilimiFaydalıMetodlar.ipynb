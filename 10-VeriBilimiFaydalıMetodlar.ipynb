{
 "cells": [
  {
   "cell_type": "code",
   "execution_count": 1,
   "id": "5fa9473d-0141-4788-a14f-f372b18e6fef",
   "metadata": {},
   "outputs": [],
   "source": [
    "liste = [0,1,2,3,4,5,6]"
   ]
  },
  {
   "cell_type": "code",
   "execution_count": 2,
   "id": "1c594024-1385-460e-8b8a-34217ed1451c",
   "metadata": {},
   "outputs": [
    {
     "name": "stdout",
     "output_type": "stream",
     "text": [
      "0\n",
      "1\n",
      "2\n",
      "3\n",
      "4\n",
      "5\n",
      "6\n"
     ]
    }
   ],
   "source": [
    "for no in liste:\n",
    "    print(no)"
   ]
  },
  {
   "cell_type": "markdown",
   "id": "d3b26644-d30b-4170-848a-e69dc65ea23a",
   "metadata": {},
   "source": [
    ">**range**"
   ]
  },
  {
   "cell_type": "code",
   "execution_count": 4,
   "id": "69d5da50-2881-4c2a-b8a3-1cf3dcc6695e",
   "metadata": {},
   "outputs": [
    {
     "data": {
      "text/plain": [
       "range(0, 15)"
      ]
     },
     "execution_count": 4,
     "metadata": {},
     "output_type": "execute_result"
    }
   ],
   "source": [
    "range(15)"
   ]
  },
  {
   "cell_type": "code",
   "execution_count": 5,
   "id": "825867a9-3ddb-4316-9f1e-a1024b5d095a",
   "metadata": {},
   "outputs": [
    {
     "data": {
      "text/plain": [
       "[0,\n",
       " 1,\n",
       " 2,\n",
       " 3,\n",
       " 4,\n",
       " 5,\n",
       " 6,\n",
       " 7,\n",
       " 8,\n",
       " 9,\n",
       " 10,\n",
       " 11,\n",
       " 12,\n",
       " 13,\n",
       " 14,\n",
       " 15,\n",
       " 16,\n",
       " 17,\n",
       " 18,\n",
       " 19,\n",
       " 20,\n",
       " 21,\n",
       " 22,\n",
       " 23,\n",
       " 24]"
      ]
     },
     "execution_count": 5,
     "metadata": {},
     "output_type": "execute_result"
    }
   ],
   "source": [
    "list(range(25))"
   ]
  },
  {
   "cell_type": "code",
   "execution_count": 6,
   "id": "ded7efd3-8096-4024-a10d-6370a767987b",
   "metadata": {},
   "outputs": [
    {
     "name": "stdout",
     "output_type": "stream",
     "text": [
      "0\n",
      "5\n",
      "10\n",
      "15\n",
      "20\n"
     ]
    }
   ],
   "source": [
    "for no in list(range(5)):\n",
    "    print(no*5)"
   ]
  },
  {
   "cell_type": "code",
   "execution_count": 8,
   "id": "49731451-9121-478e-a93e-3cab674570bd",
   "metadata": {},
   "outputs": [
    {
     "data": {
      "text/plain": [
       "[5, 9, 13, 17, 21]"
      ]
     },
     "execution_count": 8,
     "metadata": {},
     "output_type": "execute_result"
    }
   ],
   "source": [
    "list(range(5, 22, 4))"
   ]
  },
  {
   "cell_type": "markdown",
   "id": "8f3c6dd9-a227-44d2-8c0f-55b46b70dd3d",
   "metadata": {},
   "source": [
    ">**enumerate**"
   ]
  },
  {
   "cell_type": "code",
   "execution_count": 11,
   "id": "c69ea182-02f3-4628-b27f-552da10aba3a",
   "metadata": {},
   "outputs": [
    {
     "name": "stdout",
     "output_type": "stream",
     "text": [
      "güncel no: 5 güncel index: 0\n",
      "güncel no: 6 güncel index: 1\n",
      "güncel no: 7 güncel index: 2\n",
      "güncel no: 8 güncel index: 3\n",
      "güncel no: 9 güncel index: 4\n",
      "güncel no: 10 güncel index: 5\n",
      "güncel no: 11 güncel index: 6\n",
      "güncel no: 12 güncel index: 7\n",
      "güncel no: 13 güncel index: 8\n",
      "güncel no: 14 güncel index: 9\n"
     ]
    }
   ],
   "source": [
    "index = 0\n",
    "for no in list(range(5,15)):\n",
    "    print(f\"güncel no: {no} güncel index: {index}\")\n",
    "    index += 1"
   ]
  },
  {
   "cell_type": "code",
   "execution_count": 12,
   "id": "d1a7d3ef-665f-47cd-a69e-09e628f783b5",
   "metadata": {},
   "outputs": [
    {
     "name": "stdout",
     "output_type": "stream",
     "text": [
      "(0, 5)\n",
      "(1, 6)\n",
      "(2, 7)\n",
      "(3, 8)\n",
      "(4, 9)\n",
      "(5, 10)\n",
      "(6, 11)\n",
      "(7, 12)\n",
      "(8, 13)\n",
      "(9, 14)\n"
     ]
    }
   ],
   "source": [
    "for eleman in enumerate(list(range(5,15))):\n",
    "    print(eleman)"
   ]
  },
  {
   "cell_type": "code",
   "execution_count": 13,
   "id": "b09ee6e8-8e50-4d6a-b983-2c0b02d4461c",
   "metadata": {},
   "outputs": [
    {
     "name": "stdout",
     "output_type": "stream",
     "text": [
      "<class 'tuple'>\n",
      "<class 'tuple'>\n",
      "<class 'tuple'>\n",
      "<class 'tuple'>\n",
      "<class 'tuple'>\n",
      "<class 'tuple'>\n",
      "<class 'tuple'>\n",
      "<class 'tuple'>\n",
      "<class 'tuple'>\n",
      "<class 'tuple'>\n"
     ]
    }
   ],
   "source": [
    "for eleman in enumerate(list(range(5,15))):\n",
    "    print(type(eleman))"
   ]
  },
  {
   "cell_type": "code",
   "execution_count": 14,
   "id": "94f9e860-60ca-4dd5-8d23-823fa9816609",
   "metadata": {},
   "outputs": [
    {
     "name": "stdout",
     "output_type": "stream",
     "text": [
      "5\n",
      "6\n",
      "7\n",
      "8\n",
      "9\n",
      "10\n",
      "11\n",
      "12\n",
      "13\n",
      "14\n"
     ]
    }
   ],
   "source": [
    "for (index,numara) in enumerate(list(range(5,15))):\n",
    "    print(numara)"
   ]
  },
  {
   "cell_type": "markdown",
   "id": "0c8ef449-5bbb-4c8c-ab76-3ecf0d048d28",
   "metadata": {},
   "source": [
    ">**random**"
   ]
  },
  {
   "cell_type": "code",
   "execution_count": 15,
   "id": "727af5be-4e1a-41f0-98a8-d76dfb9861ad",
   "metadata": {},
   "outputs": [],
   "source": [
    "from random import randint"
   ]
  },
  {
   "cell_type": "code",
   "execution_count": 16,
   "id": "4acbfea6-54f9-4e4a-8802-9b3cc2be9a48",
   "metadata": {},
   "outputs": [
    {
     "data": {
      "text/plain": [
       "10"
      ]
     },
     "execution_count": 16,
     "metadata": {},
     "output_type": "execute_result"
    }
   ],
   "source": [
    "randint(0,100)"
   ]
  },
  {
   "cell_type": "code",
   "execution_count": 17,
   "id": "38cfd93b-6766-4755-81ca-f31f93862cab",
   "metadata": {},
   "outputs": [
    {
     "data": {
      "text/plain": [
       "76"
      ]
     },
     "execution_count": 17,
     "metadata": {},
     "output_type": "execute_result"
    }
   ],
   "source": [
    "randint(0,100)"
   ]
  },
  {
   "cell_type": "code",
   "execution_count": 18,
   "id": "e8ec41a8-c75d-4255-9a30-890ccf4f4d32",
   "metadata": {},
   "outputs": [],
   "source": [
    "liste = list(range(0,10))"
   ]
  },
  {
   "cell_type": "code",
   "execution_count": 19,
   "id": "e6ec2e00-bb9d-482e-9ae6-dcd00590b4b2",
   "metadata": {},
   "outputs": [
    {
     "data": {
      "text/plain": [
       "[0, 1, 2, 3, 4, 5, 6, 7, 8, 9]"
      ]
     },
     "execution_count": 19,
     "metadata": {},
     "output_type": "execute_result"
    }
   ],
   "source": [
    "liste"
   ]
  },
  {
   "cell_type": "code",
   "execution_count": 24,
   "id": "24dded09-5271-4547-aedf-cf49da0e47c9",
   "metadata": {},
   "outputs": [
    {
     "data": {
      "text/plain": [
       "3"
      ]
     },
     "execution_count": 24,
     "metadata": {},
     "output_type": "execute_result"
    }
   ],
   "source": [
    "liste[randint(0,9)]"
   ]
  },
  {
   "cell_type": "code",
   "execution_count": 25,
   "id": "1fa384ce-85f3-424a-aef1-114225ae0675",
   "metadata": {},
   "outputs": [],
   "source": [
    "from random import shuffle"
   ]
  },
  {
   "cell_type": "code",
   "execution_count": 26,
   "id": "c2f312eb-c27c-4b22-b809-a623b52ab058",
   "metadata": {},
   "outputs": [],
   "source": [
    "shuffle(liste)"
   ]
  },
  {
   "cell_type": "code",
   "execution_count": 27,
   "id": "e89c94dc-7f7f-4af1-bb79-0086dda146b3",
   "metadata": {},
   "outputs": [
    {
     "data": {
      "text/plain": [
       "[4, 7, 9, 0, 2, 5, 1, 8, 6, 3]"
      ]
     },
     "execution_count": 27,
     "metadata": {},
     "output_type": "execute_result"
    }
   ],
   "source": [
    "liste"
   ]
  },
  {
   "cell_type": "markdown",
   "id": "16cbee59-063e-4dda-adba-96abc3498f0a",
   "metadata": {},
   "source": [
    ">**zip**"
   ]
  },
  {
   "cell_type": "code",
   "execution_count": 28,
   "id": "a0e4afd1-2cbc-46f9-a6a4-88a0160f65f5",
   "metadata": {},
   "outputs": [],
   "source": [
    "yemek = [\"muz\", \"ananas\", \"elma\"]\n",
    "kalori = [100, 200, 300]\n",
    "gunler = [\"pzt\", \"salı\", \"çrş\"]"
   ]
  },
  {
   "cell_type": "code",
   "execution_count": 29,
   "id": "c1fd4cc9-162f-4ae3-be0e-aecefa23b152",
   "metadata": {},
   "outputs": [
    {
     "data": {
      "text/plain": [
       "[('muz', 100, 'pzt'), ('ananas', 200, 'salı'), ('elma', 300, 'çrş')]"
      ]
     },
     "execution_count": 29,
     "metadata": {},
     "output_type": "execute_result"
    }
   ],
   "source": [
    "list(zip(yemek, kalori, gunler))"
   ]
  },
  {
   "cell_type": "code",
   "execution_count": 30,
   "id": "9e7898ac-c00a-419d-8c1a-c82252dd5f68",
   "metadata": {},
   "outputs": [],
   "source": [
    "ziplist = list(zip(yemek, kalori, gunler))"
   ]
  },
  {
   "cell_type": "code",
   "execution_count": 32,
   "id": "2b193971-d7f2-4381-a625-faffaeccc3f2",
   "metadata": {},
   "outputs": [
    {
     "name": "stdout",
     "output_type": "stream",
     "text": [
      "<class 'tuple'>\n",
      "<class 'tuple'>\n",
      "<class 'tuple'>\n"
     ]
    }
   ],
   "source": [
    "for no in ziplist:\n",
    "    print(type(no))"
   ]
  },
  {
   "cell_type": "markdown",
   "id": "620a537c-65b1-4f20-bac2-7a25cb6e6017",
   "metadata": {},
   "source": [
    ">**listeler ileri seviye**"
   ]
  },
  {
   "cell_type": "code",
   "execution_count": 36,
   "id": "f1f5d34c-5672-4f69-8dff-af3fcbbed5ca",
   "metadata": {},
   "outputs": [
    {
     "data": {
      "text/plain": [
       "['a', 'h', 's', 'e', 'n', ' ', 'n', 'u', 'r']"
      ]
     },
     "execution_count": 36,
     "metadata": {},
     "output_type": "execute_result"
    }
   ],
   "source": [
    "liste1 = []\n",
    "isim = \"ahsen nur\"\n",
    "\n",
    "for harf in isim:\n",
    "    liste1.append(harf)\n",
    "\n",
    "liste1"
   ]
  },
  {
   "cell_type": "code",
   "execution_count": 37,
   "id": "84f2299d-623b-41ba-b22e-8af38699981f",
   "metadata": {},
   "outputs": [
    {
     "data": {
      "text/plain": [
       "['a', 'h', 's', 'e', 'n', ' ', 'n', 'u', 'r']"
      ]
     },
     "execution_count": 37,
     "metadata": {},
     "output_type": "execute_result"
    }
   ],
   "source": [
    "ad = \"ahsen nur\"\n",
    "liste2 = [eleman for eleman in ad]\n",
    "liste2"
   ]
  },
  {
   "cell_type": "code",
   "execution_count": 38,
   "id": "229a2880-c396-4c20-a58f-e685f032e7a1",
   "metadata": {},
   "outputs": [],
   "source": [
    "liste3 = [no*5 for no in list(range(0,10))]"
   ]
  },
  {
   "cell_type": "code",
   "execution_count": 39,
   "id": "03f225ba-d5cf-4496-bb7b-646a9e8e61b7",
   "metadata": {},
   "outputs": [
    {
     "data": {
      "text/plain": [
       "[0, 5, 10, 15, 20, 25, 30, 35, 40, 45]"
      ]
     },
     "execution_count": 39,
     "metadata": {},
     "output_type": "execute_result"
    }
   ],
   "source": [
    "liste3"
   ]
  }
 ],
 "metadata": {
  "kernelspec": {
   "display_name": "Python 3 (ipykernel)",
   "language": "python",
   "name": "python3"
  },
  "language_info": {
   "codemirror_mode": {
    "name": "ipython",
    "version": 3
   },
   "file_extension": ".py",
   "mimetype": "text/x-python",
   "name": "python",
   "nbconvert_exporter": "python",
   "pygments_lexer": "ipython3",
   "version": "3.12.7"
  }
 },
 "nbformat": 4,
 "nbformat_minor": 5
}
