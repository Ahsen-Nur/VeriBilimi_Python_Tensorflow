{
 "cells": [
  {
   "cell_type": "code",
   "execution_count": 3,
   "id": "2a963e47-bf66-49a0-8e51-9682fb7a8244",
   "metadata": {},
   "outputs": [],
   "source": [
    "liste = [10, 20, 30, 40, 50]"
   ]
  },
  {
   "cell_type": "code",
   "execution_count": 6,
   "id": "f45a15fb-df1c-4591-b9e1-c49d37ee0e1f",
   "metadata": {},
   "outputs": [
    {
     "name": "stdout",
     "output_type": "stream",
     "text": [
      "1.6666666666666667\n",
      "3.3333333333333335\n",
      "5.0\n",
      "6.666666666666667\n",
      "8.333333333333334\n"
     ]
    }
   ],
   "source": [
    "for eleman in liste:\n",
    "    print(eleman/6)"
   ]
  },
  {
   "cell_type": "code",
   "execution_count": 7,
   "id": "b79c618b-9056-40b5-9e81-307e91edbe14",
   "metadata": {},
   "outputs": [
    {
     "name": "stdout",
     "output_type": "stream",
     "text": [
      "12.857142857142858\n",
      "25.714285714285715\n",
      "38.57142857142857\n",
      "51.42857142857143\n",
      "64.28571428571429\n"
     ]
    }
   ],
   "source": [
    "for eleman in liste:\n",
    "    no = eleman * 9 / 7\n",
    "    print(no)"
   ]
  },
  {
   "cell_type": "code",
   "execution_count": 8,
   "id": "f37ab3c4-26c3-4edc-8a97-e0190d813c5d",
   "metadata": {},
   "outputs": [],
   "source": [
    "liste1 = [1, 2, 3, 4, 5, 6]"
   ]
  },
  {
   "cell_type": "code",
   "execution_count": 9,
   "id": "4ace1aeb-828f-4644-800a-6fab64fe721a",
   "metadata": {},
   "outputs": [
    {
     "name": "stdout",
     "output_type": "stream",
     "text": [
      "1\n",
      "2\n",
      "3\n",
      "4\n",
      "5\n",
      "6\n"
     ]
    }
   ],
   "source": [
    "for rakam in liste1:\n",
    "    print(rakam)"
   ]
  },
  {
   "cell_type": "code",
   "execution_count": 10,
   "id": "61cf6951-7ad7-4d74-9cdb-16a66c8a74be",
   "metadata": {},
   "outputs": [
    {
     "name": "stdout",
     "output_type": "stream",
     "text": [
      "1 - rakamı tektir\n",
      "2 - rakamı çifttir\n",
      "3 - rakamı tektir\n",
      "4 - rakamı çifttir\n",
      "5 - rakamı tektir\n",
      "6 - rakamı çifttir\n"
     ]
    }
   ],
   "source": [
    "for rakam in liste1:\n",
    "    if rakam % 2 == 0:\n",
    "        print(rakam , \"- rakamı çifttir\")\n",
    "    else:\n",
    "        print(rakam , \"- rakamı tektir\")"
   ]
  },
  {
   "cell_type": "code",
   "execution_count": 11,
   "id": "c10bce7a-12d5-4d81-88be-81f53c853727",
   "metadata": {},
   "outputs": [],
   "source": [
    "liste2 = \"ahsen nur aldaş\""
   ]
  },
  {
   "cell_type": "code",
   "execution_count": 15,
   "id": "7c322069-5d8c-4df1-8c5a-18a65ff3453b",
   "metadata": {},
   "outputs": [
    {
     "name": "stdout",
     "output_type": "stream",
     "text": [
      "a\n",
      "h\n",
      "s\n",
      "e\n",
      "n\n",
      " \n",
      "n\n",
      "u\n",
      "r\n",
      " \n",
      "a\n",
      "l\n",
      "d\n",
      "a\n",
      "ş\n"
     ]
    }
   ],
   "source": [
    "for harf in liste2:\n",
    "    print(harf)"
   ]
  },
  {
   "cell_type": "code",
   "execution_count": 12,
   "id": "ec84fc3d-feee-41d8-a2d3-93d78a23e279",
   "metadata": {},
   "outputs": [],
   "source": [
    "koordinat = [(10.2, 15.2), (32.4, 16.2), (40.2, 20.2)]"
   ]
  },
  {
   "cell_type": "code",
   "execution_count": 9,
   "id": "9f8852b4-104a-4b6f-a78c-9522ec72f466",
   "metadata": {},
   "outputs": [
    {
     "data": {
      "text/plain": [
       "list"
      ]
     },
     "execution_count": 9,
     "metadata": {},
     "output_type": "execute_result"
    }
   ],
   "source": [
    "type(koordinat)"
   ]
  },
  {
   "cell_type": "code",
   "execution_count": 11,
   "id": "e4c31c1a-4ae7-4285-8d47-d4e8a4ddd0ea",
   "metadata": {},
   "outputs": [
    {
     "data": {
      "text/plain": [
       "tuple"
      ]
     },
     "execution_count": 11,
     "metadata": {},
     "output_type": "execute_result"
    }
   ],
   "source": [
    "type(koordinat[0])"
   ]
  },
  {
   "cell_type": "code",
   "execution_count": 13,
   "id": "594a8267-122c-41ae-9a96-c8348b0685f2",
   "metadata": {},
   "outputs": [
    {
     "name": "stdout",
     "output_type": "stream",
     "text": [
      "10.2 15.2\n",
      "32.4 16.2\n",
      "40.2 20.2\n"
     ]
    }
   ],
   "source": [
    "for (x,y) in koordinat:\n",
    "    print(x,y)"
   ]
  },
  {
   "cell_type": "code",
   "execution_count": 14,
   "id": "4024d1d4-07c9-4ab9-a36e-856e3b836259",
   "metadata": {},
   "outputs": [],
   "source": [
    "liste3 = [(1, 2, 3), (4, 5, 6), (7, 8, 9)]"
   ]
  },
  {
   "cell_type": "code",
   "execution_count": 16,
   "id": "20425679-11a3-4a0e-95a8-e6c4f81218f2",
   "metadata": {},
   "outputs": [
    {
     "name": "stdout",
     "output_type": "stream",
     "text": [
      "1 2\n",
      "4 5\n",
      "7 8\n"
     ]
    }
   ],
   "source": [
    "for (x,y,z) in liste3:\n",
    "    print(x,y)"
   ]
  },
  {
   "cell_type": "code",
   "execution_count": 18,
   "id": "3121073e-26fe-4f20-83e4-2c0c9abc458a",
   "metadata": {},
   "outputs": [],
   "source": [
    "sozluk = {\"elma\" : \"100 kalori\", \"muz\" : \"200\"}"
   ]
  },
  {
   "cell_type": "code",
   "execution_count": 24,
   "id": "1ab54c31-fe74-4c80-a767-79702a801748",
   "metadata": {},
   "outputs": [
    {
     "data": {
      "text/plain": [
       "dict_items([('elma', '100 kalori'), ('muz', '200')])"
      ]
     },
     "execution_count": 24,
     "metadata": {},
     "output_type": "execute_result"
    }
   ],
   "source": [
    "sozluk.items()"
   ]
  },
  {
   "cell_type": "code",
   "execution_count": 26,
   "id": "d9348987-15fd-4462-9884-23c259827b8d",
   "metadata": {},
   "outputs": [
    {
     "ename": "SyntaxError",
     "evalue": "cannot assign to set display (927924508.py, line 1)",
     "output_type": "error",
     "traceback": [
      "\u001b[0;36m  Cell \u001b[0;32mIn[26], line 1\u001b[0;36m\u001b[0m\n\u001b[0;31m    for {i,x} in sozluk:\u001b[0m\n\u001b[0m        ^\u001b[0m\n\u001b[0;31mSyntaxError\u001b[0m\u001b[0;31m:\u001b[0m cannot assign to set display\n"
     ]
    }
   ],
   "source": [
    " for i,x in sozluk:\n",
    "     print"
   ]
  },
  {
   "cell_type": "code",
   "execution_count": null,
   "id": "41f27b70-58c3-4990-85e9-8187d6fa5879",
   "metadata": {},
   "outputs": [],
   "source": []
  }
 ],
 "metadata": {
  "kernelspec": {
   "display_name": "Python 3 (ipykernel)",
   "language": "python",
   "name": "python3"
  },
  "language_info": {
   "codemirror_mode": {
    "name": "ipython",
    "version": 3
   },
   "file_extension": ".py",
   "mimetype": "text/x-python",
   "name": "python",
   "nbconvert_exporter": "python",
   "pygments_lexer": "ipython3",
   "version": "3.12.2"
  }
 },
 "nbformat": 4,
 "nbformat_minor": 5
}
