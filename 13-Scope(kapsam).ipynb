{
 "cells": [
  {
   "cell_type": "code",
   "execution_count": 1,
   "id": "10fb3987-cba5-4c3e-a5fd-87f1e08e1397",
   "metadata": {},
   "outputs": [],
   "source": [
    "no = 20\n",
    "\n",
    "def carp(r):\n",
    "    no = 10\n",
    "    return no*r"
   ]
  },
  {
   "cell_type": "code",
   "execution_count": 2,
   "id": "27765bae-d67f-47e5-b1b8-855f2e916eec",
   "metadata": {},
   "outputs": [
    {
     "data": {
      "text/plain": [
       "50"
      ]
     },
     "execution_count": 2,
     "metadata": {},
     "output_type": "execute_result"
    }
   ],
   "source": [
    "carp(5)"
   ]
  },
  {
   "cell_type": "code",
   "execution_count": 3,
   "id": "95d964d5-314e-47f4-8eff-2f5af973b725",
   "metadata": {},
   "outputs": [
    {
     "data": {
      "text/plain": [
       "20"
      ]
     },
     "execution_count": 3,
     "metadata": {},
     "output_type": "execute_result"
    }
   ],
   "source": [
    "no"
   ]
  },
  {
   "cell_type": "markdown",
   "id": "b6c2878d-d225-4180-bb7b-31c38a264b0c",
   "metadata": {},
   "source": [
    "local, enclosing, global, buılt-ın"
   ]
  },
  {
   "cell_type": "code",
   "execution_count": 6,
   "id": "55c0abde-d1b5-4f59-9e96-9490918ef0fb",
   "metadata": {},
   "outputs": [],
   "source": [
    "ad = \"ahsen\" #global\n",
    "\n",
    "def dıs():\n",
    "    ad = \"emine\" #enclosing\n",
    "\n",
    "    def ic():\n",
    "        ad = \"nur\" #local\n",
    "        print(ad)\n",
    "    ic()"
   ]
  },
  {
   "cell_type": "code",
   "execution_count": 7,
   "id": "c64f53a1-e5d1-4ece-8104-e18d0420e8ff",
   "metadata": {},
   "outputs": [
    {
     "name": "stdout",
     "output_type": "stream",
     "text": [
      "nur\n"
     ]
    }
   ],
   "source": [
    "dıs()"
   ]
  },
  {
   "cell_type": "code",
   "execution_count": 8,
   "id": "7a47135a-de52-43a3-82bf-e545d72738fe",
   "metadata": {},
   "outputs": [
    {
     "name": "stdout",
     "output_type": "stream",
     "text": [
      "ahsen\n"
     ]
    }
   ],
   "source": [
    "print(ad)"
   ]
  },
  {
   "cell_type": "code",
   "execution_count": 9,
   "id": "aebfaf6a-76d5-403d-948e-6ef485f1f4cb",
   "metadata": {},
   "outputs": [],
   "source": [
    "y = 10\n",
    "\n",
    "def a(y):\n",
    "    print(y)\n",
    "    y = 5\n",
    "    print(y)\n",
    "    return y"
   ]
  },
  {
   "cell_type": "code",
   "execution_count": 10,
   "id": "ff335fa7-8141-4a70-9978-4c33db677e19",
   "metadata": {},
   "outputs": [
    {
     "name": "stdout",
     "output_type": "stream",
     "text": [
      "3\n",
      "5\n"
     ]
    },
    {
     "data": {
      "text/plain": [
       "5"
      ]
     },
     "execution_count": 10,
     "metadata": {},
     "output_type": "execute_result"
    }
   ],
   "source": [
    "a(3)"
   ]
  },
  {
   "cell_type": "code",
   "execution_count": 11,
   "id": "cb02b4a8-d954-4921-9726-800d46ddc1bb",
   "metadata": {},
   "outputs": [
    {
     "data": {
      "text/plain": [
       "10"
      ]
     },
     "execution_count": 11,
     "metadata": {},
     "output_type": "execute_result"
    }
   ],
   "source": [
    "y"
   ]
  },
  {
   "cell_type": "code",
   "execution_count": 12,
   "id": "6c369853-07e2-4109-b054-4478fa71873c",
   "metadata": {},
   "outputs": [
    {
     "name": "stdout",
     "output_type": "stream",
     "text": [
      "3\n",
      "5\n"
     ]
    }
   ],
   "source": [
    "y = a(3)"
   ]
  },
  {
   "cell_type": "code",
   "execution_count": 13,
   "id": "fb816002-ab4e-4d5a-a09f-4789cf0bdb23",
   "metadata": {},
   "outputs": [
    {
     "data": {
      "text/plain": [
       "5"
      ]
     },
     "execution_count": 13,
     "metadata": {},
     "output_type": "execute_result"
    }
   ],
   "source": [
    "y"
   ]
  },
  {
   "cell_type": "code",
   "execution_count": 14,
   "id": "eff47f65-a642-465b-8d75-11360fd8f713",
   "metadata": {},
   "outputs": [],
   "source": [
    "y = 10\n",
    "\n",
    "def b():\n",
    "    global y\n",
    "    y = 5\n",
    "    print(y)"
   ]
  },
  {
   "cell_type": "code",
   "execution_count": 15,
   "id": "8e7f430f-31a6-4ff7-bf20-949a4cdc17ab",
   "metadata": {},
   "outputs": [
    {
     "name": "stdout",
     "output_type": "stream",
     "text": [
      "5\n"
     ]
    }
   ],
   "source": [
    "b()"
   ]
  },
  {
   "cell_type": "code",
   "execution_count": 16,
   "id": "b10e5af7-ff9d-49d7-8300-1b25fa60ddcd",
   "metadata": {},
   "outputs": [
    {
     "data": {
      "text/plain": [
       "5"
      ]
     },
     "execution_count": 16,
     "metadata": {},
     "output_type": "execute_result"
    }
   ],
   "source": [
    "y"
   ]
  },
  {
   "cell_type": "code",
   "execution_count": null,
   "id": "1d15da87-412b-4276-b7e4-1cab4d3c0c3e",
   "metadata": {},
   "outputs": [],
   "source": []
  }
 ],
 "metadata": {
  "kernelspec": {
   "display_name": "Python 3 (ipykernel)",
   "language": "python",
   "name": "python3"
  },
  "language_info": {
   "codemirror_mode": {
    "name": "ipython",
    "version": 3
   },
   "file_extension": ".py",
   "mimetype": "text/x-python",
   "name": "python",
   "nbconvert_exporter": "python",
   "pygments_lexer": "ipython3",
   "version": "3.12.7"
  }
 },
 "nbformat": 4,
 "nbformat_minor": 5
}
