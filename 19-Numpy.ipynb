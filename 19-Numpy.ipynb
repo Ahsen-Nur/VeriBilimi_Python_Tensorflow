{
 "cells": [
  {
   "cell_type": "code",
   "execution_count": 4,
   "id": "00baef70-ed6b-416d-b496-a41ef89d5238",
   "metadata": {},
   "outputs": [],
   "source": [
    "import numpy as np"
   ]
  },
  {
   "cell_type": "markdown",
   "id": "f359d160-4dc9-441a-afe9-9aa894d526bf",
   "metadata": {},
   "source": [
    ">**numpy array**"
   ]
  },
  {
   "cell_type": "code",
   "execution_count": 5,
   "id": "ba201ad5-5e71-4c85-a0b5-6726183c2226",
   "metadata": {},
   "outputs": [],
   "source": [
    "l1 = [20, 30, 40]"
   ]
  },
  {
   "cell_type": "code",
   "execution_count": 6,
   "id": "00298ac5-5f0d-40e8-a499-afd59e696b40",
   "metadata": {},
   "outputs": [
    {
     "data": {
      "text/plain": [
       "array([20, 30, 40])"
      ]
     },
     "execution_count": 6,
     "metadata": {},
     "output_type": "execute_result"
    }
   ],
   "source": [
    "np.array(l1)"
   ]
  },
  {
   "cell_type": "code",
   "execution_count": 7,
   "id": "388c99ec-e361-46fa-b25c-db9923ad12a8",
   "metadata": {},
   "outputs": [],
   "source": [
    "l2 = [[10, 20], [30, 40], [50, 60]]"
   ]
  },
  {
   "cell_type": "code",
   "execution_count": 8,
   "id": "f36dd847-d8c4-422c-a16a-ce16039f7f87",
   "metadata": {},
   "outputs": [
    {
     "data": {
      "text/plain": [
       "array([[10, 20],\n",
       "       [30, 40],\n",
       "       [50, 60]])"
      ]
     },
     "execution_count": 8,
     "metadata": {},
     "output_type": "execute_result"
    }
   ],
   "source": [
    "np.array(l2)"
   ]
  },
  {
   "cell_type": "markdown",
   "id": "b90ee1bf-5ea6-4a34-9b22-20bf9e32f9ca",
   "metadata": {},
   "source": [
    ">**arange**"
   ]
  },
  {
   "cell_type": "code",
   "execution_count": 9,
   "id": "16ffa212-13b4-46cf-ac73-319003e05a22",
   "metadata": {},
   "outputs": [
    {
     "data": {
      "text/plain": [
       "[0, 1, 2, 3, 4, 5, 6, 7, 8, 9]"
      ]
     },
     "execution_count": 9,
     "metadata": {},
     "output_type": "execute_result"
    }
   ],
   "source": [
    "list(range(0, 10))"
   ]
  },
  {
   "cell_type": "code",
   "execution_count": 10,
   "id": "e1faf697-2e1f-4192-b0c9-a3b2e1dc2dee",
   "metadata": {},
   "outputs": [
    {
     "data": {
      "text/plain": [
       "array([0, 1, 2, 3, 4, 5, 6, 7, 8, 9])"
      ]
     },
     "execution_count": 10,
     "metadata": {},
     "output_type": "execute_result"
    }
   ],
   "source": [
    "np.arange(0, 10)"
   ]
  },
  {
   "cell_type": "code",
   "execution_count": 11,
   "id": "38f394c9-eebb-4036-8af8-d5fee40f6bfa",
   "metadata": {},
   "outputs": [
    {
     "data": {
      "text/plain": [
       "array([0, 2, 4, 6, 8])"
      ]
     },
     "execution_count": 11,
     "metadata": {},
     "output_type": "execute_result"
    }
   ],
   "source": [
    "np.arange(0, 10, 2)"
   ]
  },
  {
   "cell_type": "markdown",
   "id": "bdc5e9fa-3038-4d51-82ec-13c11120a3d4",
   "metadata": {},
   "source": [
    ">**zeros / ones**"
   ]
  },
  {
   "cell_type": "code",
   "execution_count": 12,
   "id": "4fb55cd9-8bff-42cf-8074-2166ae3c9373",
   "metadata": {},
   "outputs": [
    {
     "data": {
      "text/plain": [
       "array([0., 0., 0., 0., 0.])"
      ]
     },
     "execution_count": 12,
     "metadata": {},
     "output_type": "execute_result"
    }
   ],
   "source": [
    "np.zeros(5)"
   ]
  },
  {
   "cell_type": "code",
   "execution_count": 13,
   "id": "0e606b4c-9e16-4f5c-8aa4-7fee7abb3822",
   "metadata": {},
   "outputs": [
    {
     "data": {
      "text/plain": [
       "array([[0., 0.],\n",
       "       [0., 0.]])"
      ]
     },
     "execution_count": 13,
     "metadata": {},
     "output_type": "execute_result"
    }
   ],
   "source": [
    "np.zeros((2,2))"
   ]
  },
  {
   "cell_type": "code",
   "execution_count": 14,
   "id": "c6544232-83b6-43b9-8feb-09c0d26abe1b",
   "metadata": {},
   "outputs": [
    {
     "data": {
      "text/plain": [
       "array([1., 1., 1., 1., 1.])"
      ]
     },
     "execution_count": 14,
     "metadata": {},
     "output_type": "execute_result"
    }
   ],
   "source": [
    "np.ones(5)"
   ]
  },
  {
   "cell_type": "code",
   "execution_count": 15,
   "id": "6b9d9e3f-2d4f-49a2-b072-d4869448708a",
   "metadata": {},
   "outputs": [
    {
     "data": {
      "text/plain": [
       "array([[1., 1.],\n",
       "       [1., 1.]])"
      ]
     },
     "execution_count": 15,
     "metadata": {},
     "output_type": "execute_result"
    }
   ],
   "source": [
    "np.ones((2,2))"
   ]
  },
  {
   "cell_type": "markdown",
   "id": "83c8b9e7-40e4-4e0e-ac55-ced62ab8c253",
   "metadata": {},
   "source": [
    ">**linspace**"
   ]
  },
  {
   "cell_type": "code",
   "execution_count": 16,
   "id": "8c77c55a-c4ca-4c57-8bca-f031565e2cf7",
   "metadata": {},
   "outputs": [
    {
     "data": {
      "text/plain": [
       "array([ 0.,  4.,  8., 12., 16., 20.])"
      ]
     },
     "execution_count": 16,
     "metadata": {},
     "output_type": "execute_result"
    }
   ],
   "source": [
    "np.linspace(0, 20, 6)"
   ]
  },
  {
   "cell_type": "code",
   "execution_count": 17,
   "id": "5e8009ec-6cc6-4af2-aaa8-71a4abdfae56",
   "metadata": {},
   "outputs": [
    {
     "data": {
      "text/plain": [
       "array([ 0.        ,  0.66666667,  1.33333333,  2.        ,  2.66666667,\n",
       "        3.33333333,  4.        ,  4.66666667,  5.33333333,  6.        ,\n",
       "        6.66666667,  7.33333333,  8.        ,  8.66666667,  9.33333333,\n",
       "       10.        ])"
      ]
     },
     "execution_count": 17,
     "metadata": {},
     "output_type": "execute_result"
    }
   ],
   "source": [
    "np.linspace(0, 10, 16)"
   ]
  },
  {
   "cell_type": "markdown",
   "id": "d55d5549-0d1a-4cf0-84a0-5baae81ee392",
   "metadata": {},
   "source": [
    ">**eye**"
   ]
  },
  {
   "cell_type": "code",
   "execution_count": 18,
   "id": "4363d364-abf7-49e6-a644-269d490dfad9",
   "metadata": {},
   "outputs": [
    {
     "data": {
      "text/plain": [
       "array([[1., 0., 0.],\n",
       "       [0., 1., 0.],\n",
       "       [0., 0., 1.]])"
      ]
     },
     "execution_count": 18,
     "metadata": {},
     "output_type": "execute_result"
    }
   ],
   "source": [
    "np.eye(3)"
   ]
  },
  {
   "cell_type": "markdown",
   "id": "a7f0397f-e92c-4a8b-8b2f-523093c5da9e",
   "metadata": {},
   "source": [
    ">**random**"
   ]
  },
  {
   "cell_type": "code",
   "execution_count": 19,
   "id": "c1b5704f-ceac-45ab-82ef-625ed83cee5c",
   "metadata": {},
   "outputs": [
    {
     "data": {
      "text/plain": [
       "array([ 0.00916537,  1.23592263,  2.24163494, -0.47901056,  0.8266165 ])"
      ]
     },
     "execution_count": 19,
     "metadata": {},
     "output_type": "execute_result"
    }
   ],
   "source": [
    "np.random.randn(5)"
   ]
  },
  {
   "cell_type": "code",
   "execution_count": 20,
   "id": "83d206a9-4c2c-44f5-aa06-d933d95f74b5",
   "metadata": {},
   "outputs": [
    {
     "data": {
      "text/plain": [
       "array([[-1.19201347, -0.67075237,  0.63923739],\n",
       "       [ 0.48613695, -0.88860004, -0.52768729],\n",
       "       [ 1.31458439, -0.52832719, -0.31310224]])"
      ]
     },
     "execution_count": 20,
     "metadata": {},
     "output_type": "execute_result"
    }
   ],
   "source": [
    "np.random.randn(3,3)"
   ]
  },
  {
   "cell_type": "code",
   "execution_count": 21,
   "id": "34e088e1-8946-4001-9cc5-1e76e1e4c9db",
   "metadata": {},
   "outputs": [
    {
     "data": {
      "text/plain": [
       "1"
      ]
     },
     "execution_count": 21,
     "metadata": {},
     "output_type": "execute_result"
    }
   ],
   "source": [
    "np.random.randint(5)"
   ]
  },
  {
   "cell_type": "code",
   "execution_count": 22,
   "id": "f310b9ea-18ce-4075-a8b7-55420391ecb6",
   "metadata": {},
   "outputs": [
    {
     "data": {
      "text/plain": [
       "1"
      ]
     },
     "execution_count": 22,
     "metadata": {},
     "output_type": "execute_result"
    }
   ],
   "source": [
    "np.random.randint(1, 10)"
   ]
  },
  {
   "cell_type": "code",
   "execution_count": 23,
   "id": "916bd8c2-11d7-46f7-9b03-088ed4620852",
   "metadata": {},
   "outputs": [
    {
     "data": {
      "text/plain": [
       "array([2, 4, 7])"
      ]
     },
     "execution_count": 23,
     "metadata": {},
     "output_type": "execute_result"
    }
   ],
   "source": [
    "np.random.randint(1, 10, 3)"
   ]
  },
  {
   "cell_type": "code",
   "execution_count": 24,
   "id": "22b8a250-5a45-49c9-8547-df50b73972b6",
   "metadata": {},
   "outputs": [
    {
     "data": {
      "text/plain": [
       "array([248, 120, 147])"
      ]
     },
     "execution_count": 24,
     "metadata": {},
     "output_type": "execute_result"
    }
   ],
   "source": [
    "np.random.randint(1, 300, 3)"
   ]
  },
  {
   "cell_type": "code",
   "execution_count": 25,
   "id": "e242304d-6f07-44d9-8ab8-642c1f9b28f7",
   "metadata": {},
   "outputs": [
    {
     "data": {
      "text/plain": [
       "array([ 0,  1,  2,  3,  4,  5,  6,  7,  8,  9, 10, 11, 12, 13, 14, 15, 16,\n",
       "       17, 18, 19, 20, 21, 22, 23, 24, 25, 26, 27, 28, 29])"
      ]
     },
     "execution_count": 25,
     "metadata": {},
     "output_type": "execute_result"
    }
   ],
   "source": [
    "d1 = np.arange(30)\n",
    "d1"
   ]
  },
  {
   "cell_type": "code",
   "execution_count": 26,
   "id": "674b930a-3470-4884-893d-6aa48d737d69",
   "metadata": {},
   "outputs": [
    {
     "data": {
      "text/plain": [
       "array([74, 61, 21,  1, 60,  6,  8, 67, 36, 16])"
      ]
     },
     "execution_count": 26,
     "metadata": {},
     "output_type": "execute_result"
    }
   ],
   "source": [
    "d2 = np.random.randint(0, 100, 10)\n",
    "d2"
   ]
  },
  {
   "cell_type": "markdown",
   "id": "f0d8c5e0-2dbb-471b-b193-8e1f2167e72b",
   "metadata": {},
   "source": [
    ">**numpy dizi methodları**"
   ]
  },
  {
   "cell_type": "code",
   "execution_count": 27,
   "id": "4999c413-07d0-4099-a8d2-1b2d763f0fd4",
   "metadata": {},
   "outputs": [
    {
     "data": {
      "text/plain": [
       "array([[ 0,  1,  2,  3,  4,  5],\n",
       "       [ 6,  7,  8,  9, 10, 11],\n",
       "       [12, 13, 14, 15, 16, 17],\n",
       "       [18, 19, 20, 21, 22, 23],\n",
       "       [24, 25, 26, 27, 28, 29]])"
      ]
     },
     "execution_count": 27,
     "metadata": {},
     "output_type": "execute_result"
    }
   ],
   "source": [
    "d1.reshape(5,6)"
   ]
  },
  {
   "cell_type": "code",
   "execution_count": 28,
   "id": "40cfe486-9032-467e-a67b-696d2782ea56",
   "metadata": {},
   "outputs": [
    {
     "data": {
      "text/plain": [
       "29"
      ]
     },
     "execution_count": 28,
     "metadata": {},
     "output_type": "execute_result"
    }
   ],
   "source": [
    "d1.max()"
   ]
  },
  {
   "cell_type": "code",
   "execution_count": 29,
   "id": "38939b3e-5561-4300-ae72-d74e4443b890",
   "metadata": {},
   "outputs": [
    {
     "data": {
      "text/plain": [
       "0"
      ]
     },
     "execution_count": 29,
     "metadata": {},
     "output_type": "execute_result"
    }
   ],
   "source": [
    "d1.min()"
   ]
  },
  {
   "cell_type": "code",
   "execution_count": 30,
   "id": "ebce1fbc-1b6f-4c05-9be5-ace82da04483",
   "metadata": {},
   "outputs": [
    {
     "data": {
      "text/plain": [
       "29"
      ]
     },
     "execution_count": 30,
     "metadata": {},
     "output_type": "execute_result"
    }
   ],
   "source": [
    "d1.argmax()"
   ]
  },
  {
   "cell_type": "code",
   "execution_count": 31,
   "id": "2910cf8d-490d-4e98-8f13-21efdc4dd913",
   "metadata": {},
   "outputs": [
    {
     "data": {
      "text/plain": [
       "0"
      ]
     },
     "execution_count": 31,
     "metadata": {},
     "output_type": "execute_result"
    }
   ],
   "source": [
    "d1.argmin()"
   ]
  },
  {
   "cell_type": "code",
   "execution_count": 32,
   "id": "693ee1a0-bdec-4d6e-8a0a-6c3bf996c7cb",
   "metadata": {},
   "outputs": [
    {
     "data": {
      "text/plain": [
       "array([[ 0,  1,  2,  3,  4,  5],\n",
       "       [ 6,  7,  8,  9, 10, 11],\n",
       "       [12, 13, 14, 15, 16, 17],\n",
       "       [18, 19, 20, 21, 22, 23],\n",
       "       [24, 25, 26, 27, 28, 29]])"
      ]
     },
     "execution_count": 32,
     "metadata": {},
     "output_type": "execute_result"
    }
   ],
   "source": [
    "d2 = d1.reshape(5,6)\n",
    "d2"
   ]
  },
  {
   "cell_type": "code",
   "execution_count": 33,
   "id": "eb08d0a3-9af3-41dd-9e8b-cdac35770e0d",
   "metadata": {},
   "outputs": [
    {
     "data": {
      "text/plain": [
       "5"
      ]
     },
     "execution_count": 33,
     "metadata": {},
     "output_type": "execute_result"
    }
   ],
   "source": [
    "d1[5]"
   ]
  },
  {
   "cell_type": "code",
   "execution_count": 34,
   "id": "9d839741-a7a6-410b-abdc-3c2b2f21ce85",
   "metadata": {},
   "outputs": [
    {
     "data": {
      "text/plain": [
       "array([4, 5, 6, 7, 8])"
      ]
     },
     "execution_count": 34,
     "metadata": {},
     "output_type": "execute_result"
    }
   ],
   "source": [
    "d1[4:9]"
   ]
  },
  {
   "cell_type": "code",
   "execution_count": 35,
   "id": "9a5ad3d2-e2ed-45a5-9816-566f7ccef39f",
   "metadata": {},
   "outputs": [
    {
     "data": {
      "text/plain": [
       "array([4, 6, 8])"
      ]
     },
     "execution_count": 35,
     "metadata": {},
     "output_type": "execute_result"
    }
   ],
   "source": [
    "d1[4:9:2]"
   ]
  },
  {
   "cell_type": "code",
   "execution_count": 36,
   "id": "dcafe812-c300-4d0e-bd5f-9d775b1bbe8a",
   "metadata": {},
   "outputs": [],
   "source": [
    "d1[4:9] = 50"
   ]
  },
  {
   "cell_type": "code",
   "execution_count": 37,
   "id": "fb2dd7ce-a77d-49c9-9d13-91ca72065368",
   "metadata": {},
   "outputs": [
    {
     "data": {
      "text/plain": [
       "array([ 0,  1,  2,  3, 50, 50, 50, 50, 50,  9, 10, 11, 12, 13, 14, 15, 16,\n",
       "       17, 18, 19, 20, 21, 22, 23, 24, 25, 26, 27, 28, 29])"
      ]
     },
     "execution_count": 37,
     "metadata": {},
     "output_type": "execute_result"
    }
   ],
   "source": [
    "d1"
   ]
  },
  {
   "cell_type": "code",
   "execution_count": 38,
   "id": "4eac2ee5-51de-4f37-8ad1-76cc1910f793",
   "metadata": {},
   "outputs": [
    {
     "data": {
      "text/plain": [
       "array([ 1,  2,  3,  4,  5,  6,  7,  8,  9, 10, 11, 12, 13, 14, 15, 16, 17,\n",
       "       18, 19, 20])"
      ]
     },
     "execution_count": 38,
     "metadata": {},
     "output_type": "execute_result"
    }
   ],
   "source": [
    "d3 = np.arange(1,21)\n",
    "d3"
   ]
  },
  {
   "cell_type": "code",
   "execution_count": 39,
   "id": "ad6fb3e3-00e2-4e17-b99b-02c666b88769",
   "metadata": {},
   "outputs": [],
   "source": [
    "silicingDizisi = d3[5:10]"
   ]
  },
  {
   "cell_type": "code",
   "execution_count": 40,
   "id": "98a25188-0772-4b12-b654-0bc980d8dcfa",
   "metadata": {},
   "outputs": [
    {
     "data": {
      "text/plain": [
       "array([ 6,  7,  8,  9, 10])"
      ]
     },
     "execution_count": 40,
     "metadata": {},
     "output_type": "execute_result"
    }
   ],
   "source": [
    "silicingDizisi"
   ]
  },
  {
   "cell_type": "code",
   "execution_count": 41,
   "id": "36d83d1b-6f38-48f8-9aca-de0bb61d9322",
   "metadata": {},
   "outputs": [
    {
     "data": {
      "text/plain": [
       "array([700, 700, 700, 700, 700])"
      ]
     },
     "execution_count": 41,
     "metadata": {},
     "output_type": "execute_result"
    }
   ],
   "source": [
    "silicingDizisi[:] = 700\n",
    "silicingDizisi"
   ]
  },
  {
   "cell_type": "code",
   "execution_count": 42,
   "id": "0c654aeb-8de4-4093-b2e9-bb707a12b51e",
   "metadata": {},
   "outputs": [
    {
     "data": {
      "text/plain": [
       "array([  1,   2,   3,   4,   5, 700, 700, 700, 700, 700,  11,  12,  13,\n",
       "        14,  15,  16,  17,  18,  19,  20])"
      ]
     },
     "execution_count": 42,
     "metadata": {},
     "output_type": "execute_result"
    }
   ],
   "source": [
    "d3"
   ]
  },
  {
   "cell_type": "code",
   "execution_count": 43,
   "id": "c26221f7-53ef-4b15-a3a0-e95b3f28c5fd",
   "metadata": {},
   "outputs": [
    {
     "data": {
      "text/plain": [
       "array([ 1,  2,  3,  4,  5,  6,  7,  8,  9, 10, 11, 12, 13, 14, 15, 16, 17,\n",
       "       18, 19, 20])"
      ]
     },
     "execution_count": 43,
     "metadata": {},
     "output_type": "execute_result"
    }
   ],
   "source": [
    "d4 = np.arange(1, 21)\n",
    "d4"
   ]
  },
  {
   "cell_type": "code",
   "execution_count": 44,
   "id": "ad2599e2-1b75-4198-ba4f-7f4ffcb9eeef",
   "metadata": {},
   "outputs": [],
   "source": [
    "d4kopya = d4.copy()"
   ]
  },
  {
   "cell_type": "code",
   "execution_count": 45,
   "id": "66be6d62-5af5-4a06-b3bc-b2ef0741f80f",
   "metadata": {},
   "outputs": [
    {
     "data": {
      "text/plain": [
       "array([4, 5, 6])"
      ]
     },
     "execution_count": 45,
     "metadata": {},
     "output_type": "execute_result"
    }
   ],
   "source": [
    "d4kopyaSilicing = d4kopya[3:6]\n",
    "d4kopyaSilicing"
   ]
  },
  {
   "cell_type": "code",
   "execution_count": 46,
   "id": "25aec51a-3868-4b46-886a-62e69cf6ed22",
   "metadata": {},
   "outputs": [
    {
     "data": {
      "text/plain": [
       "array([800, 800, 800])"
      ]
     },
     "execution_count": 46,
     "metadata": {},
     "output_type": "execute_result"
    }
   ],
   "source": [
    "d4kopyaSilicing[:] = 800\n",
    "d4kopyaSilicing"
   ]
  },
  {
   "cell_type": "code",
   "execution_count": 47,
   "id": "bddc91fb-ff4f-4d1f-8167-226621c46775",
   "metadata": {},
   "outputs": [
    {
     "data": {
      "text/plain": [
       "array([  1,   2,   3, 800, 800, 800,   7,   8,   9,  10,  11,  12,  13,\n",
       "        14,  15,  16,  17,  18,  19,  20])"
      ]
     },
     "execution_count": 47,
     "metadata": {},
     "output_type": "execute_result"
    }
   ],
   "source": [
    "d4kopya"
   ]
  },
  {
   "cell_type": "code",
   "execution_count": 48,
   "id": "dc18b92d-2cc1-45c0-b7c5-df91765e13d5",
   "metadata": {},
   "outputs": [
    {
     "data": {
      "text/plain": [
       "array([ 1,  2,  3,  4,  5,  6,  7,  8,  9, 10, 11, 12, 13, 14, 15, 16, 17,\n",
       "       18, 19, 20])"
      ]
     },
     "execution_count": 48,
     "metadata": {},
     "output_type": "execute_result"
    }
   ],
   "source": [
    "d4"
   ]
  },
  {
   "cell_type": "markdown",
   "id": "db49b898-035d-486b-9b2b-1d5649f7715b",
   "metadata": {},
   "source": [
    ">**matrix**"
   ]
  },
  {
   "cell_type": "code",
   "execution_count": 49,
   "id": "c8a54f87-d0e0-4dfc-89f0-fa698c04e52c",
   "metadata": {},
   "outputs": [],
   "source": [
    "l2 = [[10, 20, 30], [20, 30, 40], [40, 50, 60]]"
   ]
  },
  {
   "cell_type": "code",
   "execution_count": 50,
   "id": "d2887f76-7ad4-4063-be57-57c50eeba1de",
   "metadata": {},
   "outputs": [
    {
     "data": {
      "text/plain": [
       "array([[10, 20, 30],\n",
       "       [20, 30, 40],\n",
       "       [40, 50, 60]])"
      ]
     },
     "execution_count": 50,
     "metadata": {},
     "output_type": "execute_result"
    }
   ],
   "source": [
    "matrix = np.array(l2)\n",
    "matrix"
   ]
  },
  {
   "cell_type": "code",
   "execution_count": 51,
   "id": "809397f6-6895-4db9-b8da-cbb474250001",
   "metadata": {},
   "outputs": [
    {
     "data": {
      "text/plain": [
       "array([10, 20, 30])"
      ]
     },
     "execution_count": 51,
     "metadata": {},
     "output_type": "execute_result"
    }
   ],
   "source": [
    "matrix[0]"
   ]
  },
  {
   "cell_type": "code",
   "execution_count": 52,
   "id": "6d2a153d-50db-4924-a6b9-b713edf8eff4",
   "metadata": {},
   "outputs": [
    {
     "data": {
      "text/plain": [
       "20"
      ]
     },
     "execution_count": 52,
     "metadata": {},
     "output_type": "execute_result"
    }
   ],
   "source": [
    "matrix[0][1]"
   ]
  },
  {
   "cell_type": "code",
   "execution_count": 53,
   "id": "1071df59-7226-454c-b3cd-a8b38a8af7b1",
   "metadata": {},
   "outputs": [
    {
     "data": {
      "text/plain": [
       "20"
      ]
     },
     "execution_count": 53,
     "metadata": {},
     "output_type": "execute_result"
    }
   ],
   "source": [
    "matrix[0, 1]"
   ]
  },
  {
   "cell_type": "code",
   "execution_count": 55,
   "id": "fd9a54c7-a46d-4248-997d-fa8896e3a471",
   "metadata": {},
   "outputs": [
    {
     "data": {
      "text/plain": [
       "array([20, 30, 50])"
      ]
     },
     "execution_count": 55,
     "metadata": {},
     "output_type": "execute_result"
    }
   ],
   "source": [
    "matrix[0:, 1] #0. indexten başlar yani ilk satırdan daha sonra her satırın 1. indexini alır"
   ]
  },
  {
   "cell_type": "code",
   "execution_count": 56,
   "id": "2cdf26db-6c0a-4fb8-a2f6-092f75fdda4c",
   "metadata": {},
   "outputs": [
    {
     "data": {
      "text/plain": [
       "array([[60]])"
      ]
     },
     "execution_count": 56,
     "metadata": {},
     "output_type": "execute_result"
    }
   ],
   "source": [
    "matrix[2:, 2:]"
   ]
  },
  {
   "cell_type": "code",
   "execution_count": 57,
   "id": "1b831da9-aaf3-49a4-93e3-dac307fdf4d3",
   "metadata": {},
   "outputs": [],
   "source": [
    "l3 = [[1, 2, 3, 4], [5, 6, 7, 8], [9, 10, 11, 12], [13, 14, 15, 16]]"
   ]
  },
  {
   "cell_type": "code",
   "execution_count": 60,
   "id": "3b092712-6e58-439a-bd9d-688c1a577af2",
   "metadata": {},
   "outputs": [
    {
     "data": {
      "text/plain": [
       "array([[ 1,  2,  3,  4],\n",
       "       [ 5,  6,  7,  8],\n",
       "       [ 9, 10, 11, 12],\n",
       "       [13, 14, 15, 16]])"
      ]
     },
     "execution_count": 60,
     "metadata": {},
     "output_type": "execute_result"
    }
   ],
   "source": [
    "l3 = np.array(l3)\n",
    "l3"
   ]
  },
  {
   "cell_type": "code",
   "execution_count": 61,
   "id": "f087fe10-dd09-4b74-8a09-c8f77602347a",
   "metadata": {},
   "outputs": [
    {
     "data": {
      "text/plain": [
       "array([ 9, 10, 11, 12])"
      ]
     },
     "execution_count": 61,
     "metadata": {},
     "output_type": "execute_result"
    }
   ],
   "source": [
    "l3[2]"
   ]
  },
  {
   "cell_type": "code",
   "execution_count": 63,
   "id": "ee2e1c5d-3d48-4681-80bc-5640a54664eb",
   "metadata": {},
   "outputs": [
    {
     "data": {
      "text/plain": [
       "array([[ 1,  2,  3,  4],\n",
       "       [ 9, 10, 11, 12],\n",
       "       [13, 14, 15, 16]])"
      ]
     },
     "execution_count": 63,
     "metadata": {},
     "output_type": "execute_result"
    }
   ],
   "source": [
    "l3[[0,2,3]]"
   ]
  },
  {
   "cell_type": "markdown",
   "id": "96663587-060e-4a49-9d6b-a445399e4152",
   "metadata": {},
   "source": [
    ">**operasyonlar**"
   ]
  },
  {
   "cell_type": "code",
   "execution_count": 68,
   "id": "0192f6d9-ebca-4527-95ef-9e389099b505",
   "metadata": {},
   "outputs": [
    {
     "data": {
      "text/plain": [
       "array([87, 73, 79, 44, 45, 31, 20, 77, 34, 73, 30, 53, 45, 36, 30, 13, 88,\n",
       "       22, 82, 46])"
      ]
     },
     "execution_count": 68,
     "metadata": {},
     "output_type": "execute_result"
    }
   ],
   "source": [
    "dizi = np.random.randint(1, 100, 20)\n",
    "dizi"
   ]
  },
  {
   "cell_type": "code",
   "execution_count": 69,
   "id": "03e2b6b8-0773-497f-b7c3-f6314963b32a",
   "metadata": {},
   "outputs": [
    {
     "data": {
      "text/plain": [
       "88"
      ]
     },
     "execution_count": 69,
     "metadata": {},
     "output_type": "execute_result"
    }
   ],
   "source": [
    "dizi.max()"
   ]
  },
  {
   "cell_type": "code",
   "execution_count": 70,
   "id": "8278052a-ec2d-4212-902b-66778e58da3e",
   "metadata": {},
   "outputs": [
    {
     "data": {
      "text/plain": [
       "array([ True,  True,  True,  True,  True,  True, False,  True,  True,\n",
       "        True,  True,  True,  True,  True,  True, False,  True, False,\n",
       "        True,  True])"
      ]
     },
     "execution_count": 70,
     "metadata": {},
     "output_type": "execute_result"
    }
   ],
   "source": [
    "dizi > 24"
   ]
  },
  {
   "cell_type": "code",
   "execution_count": 71,
   "id": "2880bb8b-1d9a-4401-9f52-2e3f26dcaa95",
   "metadata": {},
   "outputs": [],
   "source": [
    "sonucDizi = dizi > 24"
   ]
  },
  {
   "cell_type": "code",
   "execution_count": 72,
   "id": "96ca0179-c3fa-468d-a056-e4e6084772ae",
   "metadata": {},
   "outputs": [
    {
     "data": {
      "text/plain": [
       "array([ True,  True,  True,  True,  True,  True, False,  True,  True,\n",
       "        True,  True,  True,  True,  True,  True, False,  True, False,\n",
       "        True,  True])"
      ]
     },
     "execution_count": 72,
     "metadata": {},
     "output_type": "execute_result"
    }
   ],
   "source": [
    "sonucDizi"
   ]
  },
  {
   "cell_type": "code",
   "execution_count": 73,
   "id": "affe7264-bec7-4cd2-b83a-d16f8c1e0c76",
   "metadata": {},
   "outputs": [
    {
     "data": {
      "text/plain": [
       "array([87, 73, 79, 44, 45, 31, 77, 34, 73, 30, 53, 45, 36, 30, 88, 82, 46])"
      ]
     },
     "execution_count": 73,
     "metadata": {},
     "output_type": "execute_result"
    }
   ],
   "source": [
    "dizi[sonucDizi]"
   ]
  },
  {
   "cell_type": "code",
   "execution_count": 74,
   "id": "bfca7b8b-ad17-426d-8fb2-6878d1b5de1d",
   "metadata": {},
   "outputs": [
    {
     "data": {
      "text/plain": [
       "array([87, 73, 79, 44, 45, 31, 77, 34, 73, 30, 53, 45, 36, 30, 88, 82, 46])"
      ]
     },
     "execution_count": 74,
     "metadata": {},
     "output_type": "execute_result"
    }
   ],
   "source": [
    "dizi[dizi > 24]"
   ]
  },
  {
   "cell_type": "code",
   "execution_count": 76,
   "id": "eb390030-4aa4-46f6-9782-276c6a3290be",
   "metadata": {},
   "outputs": [
    {
     "data": {
      "text/plain": [
       "array([ 0,  1,  2,  3,  4,  5,  6,  7,  8,  9, 10, 11, 12, 13, 14, 15, 16,\n",
       "       17, 18, 19, 20, 21, 22, 23])"
      ]
     },
     "execution_count": 76,
     "metadata": {},
     "output_type": "execute_result"
    }
   ],
   "source": [
    "sonDizi = np.arange(0,24)\n",
    "sonDizi"
   ]
  },
  {
   "cell_type": "code",
   "execution_count": 77,
   "id": "761310c2-f092-4142-bb07-54b0b473d8cc",
   "metadata": {},
   "outputs": [
    {
     "data": {
      "text/plain": [
       "array([ 0,  2,  4,  6,  8, 10, 12, 14, 16, 18, 20, 22, 24, 26, 28, 30, 32,\n",
       "       34, 36, 38, 40, 42, 44, 46])"
      ]
     },
     "execution_count": 77,
     "metadata": {},
     "output_type": "execute_result"
    }
   ],
   "source": [
    "sonDizi + sonDizi"
   ]
  },
  {
   "cell_type": "code",
   "execution_count": 78,
   "id": "f51ecfc6-d0d2-4e14-b799-4348d82c4734",
   "metadata": {},
   "outputs": [
    {
     "data": {
      "text/plain": [
       "array([  0,   1,   4,   9,  16,  25,  36,  49,  64,  81, 100, 121, 144,\n",
       "       169, 196, 225, 256, 289, 324, 361, 400, 441, 484, 529])"
      ]
     },
     "execution_count": 78,
     "metadata": {},
     "output_type": "execute_result"
    }
   ],
   "source": [
    "sonDizi * sonDizi"
   ]
  },
  {
   "cell_type": "code",
   "execution_count": 79,
   "id": "9fd580c5-14ae-47ab-9bf1-8c636c0baa0a",
   "metadata": {},
   "outputs": [
    {
     "name": "stderr",
     "output_type": "stream",
     "text": [
      "/var/folders/9g/5bgf0gcn7f755k1kh7ljlmxr0000gn/T/ipykernel_35569/1312094733.py:1: RuntimeWarning: invalid value encountered in divide\n",
      "  sonDizi / sonDizi\n"
     ]
    },
    {
     "data": {
      "text/plain": [
       "array([nan,  1.,  1.,  1.,  1.,  1.,  1.,  1.,  1.,  1.,  1.,  1.,  1.,\n",
       "        1.,  1.,  1.,  1.,  1.,  1.,  1.,  1.,  1.,  1.,  1.])"
      ]
     },
     "execution_count": 79,
     "metadata": {},
     "output_type": "execute_result"
    }
   ],
   "source": [
    "sonDizi / sonDizi"
   ]
  },
  {
   "cell_type": "code",
   "execution_count": 80,
   "id": "62d34aa2-04dc-47d0-aa56-071240a5c558",
   "metadata": {},
   "outputs": [
    {
     "data": {
      "text/plain": [
       "array([0.        , 1.        , 1.41421356, 1.73205081, 2.        ,\n",
       "       2.23606798, 2.44948974, 2.64575131, 2.82842712, 3.        ,\n",
       "       3.16227766, 3.31662479, 3.46410162, 3.60555128, 3.74165739,\n",
       "       3.87298335, 4.        , 4.12310563, 4.24264069, 4.35889894,\n",
       "       4.47213595, 4.58257569, 4.69041576, 4.79583152])"
      ]
     },
     "execution_count": 80,
     "metadata": {},
     "output_type": "execute_result"
    }
   ],
   "source": [
    "np.sqrt(sonDizi)"
   ]
  },
  {
   "cell_type": "code",
   "execution_count": 81,
   "id": "231d7a26-2c53-4b68-bc1c-1ecd87dee550",
   "metadata": {},
   "outputs": [
    {
     "data": {
      "text/plain": [
       "0"
      ]
     },
     "execution_count": 81,
     "metadata": {},
     "output_type": "execute_result"
    }
   ],
   "source": [
    "np.min(sonDizi)"
   ]
  },
  {
   "cell_type": "code",
   "execution_count": null,
   "id": "eb32d6ae-ea6d-4bb1-b938-dd4938bccc6e",
   "metadata": {},
   "outputs": [],
   "source": []
  }
 ],
 "metadata": {
  "kernelspec": {
   "display_name": "Python 3 (ipykernel)",
   "language": "python",
   "name": "python3"
  },
  "language_info": {
   "codemirror_mode": {
    "name": "ipython",
    "version": 3
   },
   "file_extension": ".py",
   "mimetype": "text/x-python",
   "name": "python",
   "nbconvert_exporter": "python",
   "pygments_lexer": "ipython3",
   "version": "3.12.7"
  }
 },
 "nbformat": 4,
 "nbformat_minor": 5
}
