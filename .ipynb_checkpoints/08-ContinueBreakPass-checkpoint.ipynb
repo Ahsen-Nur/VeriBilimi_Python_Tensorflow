{
 "cells": [
  {
   "cell_type": "code",
   "execution_count": 2,
   "id": "2fad08d2-2073-4829-a604-7d3b294dca1f",
   "metadata": {},
   "outputs": [],
   "source": [
    "liste = [5, 10, 15, 20, 25, 30]"
   ]
  },
  {
   "cell_type": "code",
   "execution_count": 3,
   "id": "658c35ab-9b22-42ea-9410-7f99c3fb03f0",
   "metadata": {},
   "outputs": [
    {
     "name": "stdout",
     "output_type": "stream",
     "text": [
      "1.0\n",
      "2.0\n",
      "3.0\n",
      "4.0\n",
      "5.0\n",
      "6.0\n"
     ]
    }
   ],
   "source": [
    "for no in liste:\n",
    "    print(no / 5)"
   ]
  },
  {
   "cell_type": "markdown",
   "id": "4b2e1cf8-be7b-4aea-a4ab-88fc3cf15af6",
   "metadata": {},
   "source": [
    ">**break**"
   ]
  },
  {
   "cell_type": "code",
   "execution_count": 4,
   "id": "4f45924a-ba6c-4e62-9add-09fce21ea1f3",
   "metadata": {},
   "outputs": [
    {
     "name": "stdout",
     "output_type": "stream",
     "text": [
      "5\n",
      "10\n"
     ]
    }
   ],
   "source": [
    "for no in liste:\n",
    "    if no == 15:\n",
    "        break\n",
    "    print(no)"
   ]
  },
  {
   "cell_type": "markdown",
   "id": "b7608df1-8a26-40b5-ad19-27375016dc5f",
   "metadata": {},
   "source": [
    ">**continue**"
   ]
  },
  {
   "cell_type": "code",
   "execution_count": 5,
   "id": "00731b42-114a-49c9-8cb2-b71d2c41cb51",
   "metadata": {},
   "outputs": [
    {
     "name": "stdout",
     "output_type": "stream",
     "text": [
      "5\n",
      "10\n",
      "20\n",
      "25\n",
      "30\n"
     ]
    }
   ],
   "source": [
    "for no in liste:\n",
    "    if no == 15:\n",
    "        continue\n",
    "    print(no)"
   ]
  },
  {
   "cell_type": "markdown",
   "id": "fe2f122c-3712-4f6c-9b25-ccf2e2e6b7ce",
   "metadata": {},
   "source": [
    ">**pass**"
   ]
  },
  {
   "cell_type": "code",
   "execution_count": 6,
   "id": "644adb37-9dbb-413b-bb4a-ebb5716bef91",
   "metadata": {},
   "outputs": [],
   "source": [
    "for no in liste:\n",
    "        pass\n",
    "#işlem yapmayacaksam o an ya da sonradan bir şey yazacaksam ku"
   ]
  }
 ],
 "metadata": {
  "kernelspec": {
   "display_name": "Python 3 (ipykernel)",
   "language": "python",
   "name": "python3"
  },
  "language_info": {
   "codemirror_mode": {
    "name": "ipython",
    "version": 3
   },
   "file_extension": ".py",
   "mimetype": "text/x-python",
   "name": "python",
   "nbconvert_exporter": "python",
   "pygments_lexer": "ipython3",
   "version": "3.12.2"
  }
 },
 "nbformat": 4,
 "nbformat_minor": 5
}
