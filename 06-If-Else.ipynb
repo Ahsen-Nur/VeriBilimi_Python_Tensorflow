{
 "cells": [
  {
   "cell_type": "code",
   "execution_count": 50,
   "id": "3b36e23b-8c60-4b0e-88fd-73cd8496db7f",
   "metadata": {},
   "outputs": [
    {
     "name": "stdout",
     "output_type": "stream",
     "text": [
      "koşul sağlanmadı\n"
     ]
    }
   ],
   "source": [
    "if 3 < 1:\n",
    "    print(\"koşul sağlandı.\")\n",
    "else:\n",
    "    print(\"koşul sağlanmadı\")"
   ]
  },
  {
   "cell_type": "code",
   "execution_count": 7,
   "id": "98c8680f-8a3c-4c49-a6fc-50c926b112a6",
   "metadata": {},
   "outputs": [],
   "source": [
    "x = 3\n",
    "y = 5"
   ]
  },
  {
   "cell_type": "code",
   "execution_count": 10,
   "id": "436e0f05-e110-4b52-b4ad-f5ca9b92e674",
   "metadata": {},
   "outputs": [
    {
     "name": "stdout",
     "output_type": "stream",
     "text": [
      "x ve y değişkenleri biribirine eşit değiller\n",
      "7.0\n"
     ]
    }
   ],
   "source": [
    "if x == y:\n",
    "    print(\"eşitler.\")\n",
    "    a = 3\n",
    "    b = 5\n",
    "    print(a*b)\n",
    "else:\n",
    "    print(\"x ve y değişkenleri biribirine eşit değiller\")\n",
    "    a = 56\n",
    "    b = 8\n",
    "    print(a/b)"
   ]
  },
  {
   "cell_type": "code",
   "execution_count": 13,
   "id": "1b2c1cd8-6459-42d1-93ea-db56b1de66d2",
   "metadata": {},
   "outputs": [],
   "source": [
    "x = 10 \n",
    "y = 10"
   ]
  },
  {
   "cell_type": "code",
   "execution_count": 14,
   "id": "86585f35-2651-4dde-89e7-fb29d4d83e0a",
   "metadata": {
    "scrolled": true
   },
   "outputs": [
    {
     "name": "stdout",
     "output_type": "stream",
     "text": [
      "y = x\n"
     ]
    }
   ],
   "source": [
    "if x > y:\n",
    "    print(\"x > y\")\n",
    "elif y > x:\n",
    "    print(\"y > x\")\n",
    "else:\n",
    "    print(\"y = x\")"
   ]
  },
  {
   "cell_type": "code",
   "execution_count": 7,
   "id": "f49c1f39-6441-4c27-8451-6a3691927d27",
   "metadata": {},
   "outputs": [
    {
     "name": "stdin",
     "output_type": "stream",
     "text": [
      "kahraman seç:  superman\n"
     ]
    }
   ],
   "source": [
    "hero = input(\"kahraman seç: \")"
   ]
  },
  {
   "cell_type": "code",
   "execution_count": 8,
   "id": "6c60b917-d571-43b6-af78-ceb36f69d825",
   "metadata": {},
   "outputs": [
    {
     "name": "stdout",
     "output_type": "stream",
     "text": [
      "olmadı beee\n"
     ]
    }
   ],
   "source": [
    "if hero == \"batman\":\n",
    "    print(\"tebrikler.\")\n",
    "elif hero == \"superman\":\n",
    "    print(\"olmadı beee\")\n",
    "else:\n",
    "    print(\"bu kiim\")"
   ]
  },
  {
   "cell_type": "code",
   "execution_count": 13,
   "id": "2838f911-3c21-49d2-a437-cf75ebeedd6c",
   "metadata": {},
   "outputs": [],
   "source": [
    "a = 10\n",
    "b = 20\n",
    "c = 30"
   ]
  },
  {
   "cell_type": "code",
   "execution_count": 14,
   "id": "d3c5b350-3dd9-4596-a14b-605598901711",
   "metadata": {},
   "outputs": [
    {
     "name": "stdout",
     "output_type": "stream",
     "text": [
      "a < b < c\n"
     ]
    }
   ],
   "source": [
    "if a > b and b > c:\n",
    "    print(\"a > b > c\")\n",
    "elif a < b and b < c:\n",
    "    print(\"a < b < c\")\n",
    "else:\n",
    "    print(\"olmadı\")"
   ]
  },
  {
   "cell_type": "code",
   "execution_count": 15,
   "id": "e0166a17-ce4c-4a24-bff5-3edb33c349e3",
   "metadata": {},
   "outputs": [
    {
     "name": "stdout",
     "output_type": "stream",
     "text": [
      "a < b  ve c < b\n"
     ]
    }
   ],
   "source": [
    "if a > b or b > c:\n",
    "    print(\"a > b > c\")\n",
    "elif a < b or b > c:\n",
    "    print(\"a < b  ve c < b\")\n",
    "else:\n",
    "    print(\"olmadı\")"
   ]
  },
  {
   "cell_type": "code",
   "execution_count": 20,
   "id": "88149493-ac78-4116-a28f-cc4647fa32ae",
   "metadata": {},
   "outputs": [],
   "source": [
    "canlı = True"
   ]
  },
  {
   "cell_type": "code",
   "execution_count": 21,
   "id": "c7d4e0ef-8813-4996-8065-0149ae7261a5",
   "metadata": {},
   "outputs": [
    {
     "name": "stdout",
     "output_type": "stream",
     "text": [
      "karakter yaşıyor\n"
     ]
    }
   ],
   "source": [
    "if canlı == True:\n",
    "    print(\"karakter yaşıyor\")\n",
    "else:\n",
    "    print(\"karakter yaşamıyor\")"
   ]
  },
  {
   "cell_type": "code",
   "execution_count": 22,
   "id": "eabb0d42-e2a8-4e4a-91ac-67096ee38861",
   "metadata": {},
   "outputs": [
    {
     "name": "stdout",
     "output_type": "stream",
     "text": [
      "karakter yaşıyor\n"
     ]
    }
   ],
   "source": [
    "if canlı:\n",
    "    print(\"karakter yaşıyor\")\n",
    "else:\n",
    "    print(\"karakter yaşamıyor\")"
   ]
  },
  {
   "cell_type": "code",
   "execution_count": 27,
   "id": "eb7aa8e5-80e4-41ea-aeef-7d3a4f31dd48",
   "metadata": {},
   "outputs": [],
   "source": [
    "isim = \"ahsen nur aldaş\""
   ]
  },
  {
   "cell_type": "code",
   "execution_count": 26,
   "id": "2fdef4af-3772-4498-8da5-bc3ed97d442a",
   "metadata": {},
   "outputs": [
    {
     "name": "stdout",
     "output_type": "stream",
     "text": [
      "varmış\n"
     ]
    }
   ],
   "source": [
    "if \"Nur\" in isim:\n",
    "    print(\"varmış\")\n",
    "else:\n",
    "    print(\"yokmuş\")"
   ]
  },
  {
   "cell_type": "code",
   "execution_count": 29,
   "id": "6e1e1639-0460-4987-8326-159b8481546c",
   "metadata": {},
   "outputs": [
    {
     "name": "stdout",
     "output_type": "stream",
     "text": [
      "yokmuş\n"
     ]
    }
   ],
   "source": [
    "if \"R\" in isim:\n",
    "    print(\"varmış\")\n",
    "else:\n",
    "    print(\"yokmuş\")"
   ]
  },
  {
   "cell_type": "code",
   "execution_count": 31,
   "id": "dfc15893-b9b5-450b-bb15-f07db6d54a2d",
   "metadata": {},
   "outputs": [],
   "source": [
    "liste = [1, 2, 3, 4 ,5]"
   ]
  },
  {
   "cell_type": "code",
   "execution_count": 35,
   "id": "d0f5fc04-9ba3-48ed-b3cb-8fbec45d8ba2",
   "metadata": {},
   "outputs": [
    {
     "name": "stdout",
     "output_type": "stream",
     "text": [
      "listede yok\n"
     ]
    }
   ],
   "source": [
    "if 23 in liste:\n",
    "    print(\"listede var\")\n",
    "else:\n",
    "    print(\"listede yok\")"
   ]
  },
  {
   "cell_type": "code",
   "execution_count": 40,
   "id": "0fafd8b1-50f3-41de-b2ba-5d7f6e6dd05c",
   "metadata": {},
   "outputs": [
    {
     "name": "stdout",
     "output_type": "stream",
     "text": [
      "evet, 23 sayısı listede yok\n"
     ]
    }
   ],
   "source": [
    "if not 23 in liste:\n",
    "    print(\"evet, 23 sayısı listede yok\")\n",
    "else:\n",
    "    print(\"listede 23 sayısı var.\")"
   ]
  },
  {
   "cell_type": "code",
   "execution_count": 42,
   "id": "dd758842-d506-4a76-858e-09c95aa554c1",
   "metadata": {},
   "outputs": [],
   "source": [
    "sozluk = {\"elma\" : \"100 kalori\", \"muz\" : \"200\"}"
   ]
  },
  {
   "cell_type": "code",
   "execution_count": 45,
   "id": "c71aca00-a17a-4467-ad9b-5f72de80b82e",
   "metadata": {},
   "outputs": [
    {
     "name": "stdout",
     "output_type": "stream",
     "text": [
      "muz anahtar kelimesi sozluk içinde var\n"
     ]
    }
   ],
   "source": [
    "if \"muz\" in sozluk:\n",
    "    print(\"muz anahtar kelimesi sozluk içinde var\")\n",
    "else:\n",
    "    print(\"sözlükte yok.\")"
   ]
  },
  {
   "cell_type": "code",
   "execution_count": null,
   "id": "8d6b70ad-d4cb-4411-8e91-1c556a206c7d",
   "metadata": {},
   "outputs": [],
   "source": []
  }
 ],
 "metadata": {
  "kernelspec": {
   "display_name": "Python 3 (ipykernel)",
   "language": "python",
   "name": "python3"
  },
  "language_info": {
   "codemirror_mode": {
    "name": "ipython",
    "version": 3
   },
   "file_extension": ".py",
   "mimetype": "text/x-python",
   "name": "python",
   "nbconvert_exporter": "python",
   "pygments_lexer": "ipython3",
   "version": "3.12.2"
  }
 },
 "nbformat": 4,
 "nbformat_minor": 5
}
