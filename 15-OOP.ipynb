{
 "cells": [
  {
   "cell_type": "markdown",
   "id": "c61c7242-60f9-40f1-9568-f16f6b64ccc1",
   "metadata": {},
   "source": [
    "> **instance & attribute**"
   ]
  },
  {
   "cell_type": "code",
   "execution_count": 65,
   "id": "e8035f3b-d473-4479-983e-8aa9e5362969",
   "metadata": {},
   "outputs": [],
   "source": [
    "#instance: örnek, nesne || attribute: sınıfın özellikleri \n",
    "\n",
    "#__init__ : bir sınıftan (class) yeni bir nesne(object) \n",
    "#oluşturulduğunda otomatik olarak çalışan özel bir metottur (constructor). \n",
    "#Bu metodun amacı, nesnenin başlangıç değerlerini (initialization) belirlemek ve \n",
    "#nesneye ait özellikleri (attributes) tanımlamaktır."
   ]
  },
  {
   "cell_type": "code",
   "execution_count": 37,
   "id": "f7971152-0afb-4aed-8b57-7c5ad7073aba",
   "metadata": {},
   "outputs": [],
   "source": [
    "class SuperKahraman():\n",
    "    ozelGuc = \"görünmezlik\"\n",
    "    def __init__(self, isim, yas, meslek):\n",
    "        print(\"init çağrıldı.\")\n",
    "        self.isim = isim\n",
    "        self.yas = yas\n",
    "        self.meslek = meslek\n",
    "\n",
    "    def method(self):\n",
    "        print(f\"ben superkahramanım ve mesleğim: {self.meslek}\")"
   ]
  },
  {
   "cell_type": "code",
   "execution_count": 38,
   "id": "afd9f2fb-61df-4d1c-9599-09a4bf628157",
   "metadata": {},
   "outputs": [
    {
     "name": "stdout",
     "output_type": "stream",
     "text": [
      "init çağrıldı.\n"
     ]
    }
   ],
   "source": [
    "superman = SuperKahraman(\"superman\", 20, \"gazeteci\")"
   ]
  },
  {
   "cell_type": "code",
   "execution_count": 39,
   "id": "43addfb3-92eb-48d1-a746-850d45c6e6c2",
   "metadata": {},
   "outputs": [
    {
     "data": {
      "text/plain": [
       "'superman'"
      ]
     },
     "execution_count": 39,
     "metadata": {},
     "output_type": "execute_result"
    }
   ],
   "source": [
    "superman.isim"
   ]
  },
  {
   "cell_type": "code",
   "execution_count": 40,
   "id": "eccc8036-edc4-467e-ae6d-861bc10ab687",
   "metadata": {},
   "outputs": [],
   "source": [
    "superman.isim = \"clark kent\""
   ]
  },
  {
   "cell_type": "code",
   "execution_count": 41,
   "id": "1cbd7e5d-39aa-4351-87fe-93580aa207e8",
   "metadata": {},
   "outputs": [
    {
     "data": {
      "text/plain": [
       "<__main__.SuperKahraman at 0x10766d5e0>"
      ]
     },
     "execution_count": 41,
     "metadata": {},
     "output_type": "execute_result"
    }
   ],
   "source": [
    "superman"
   ]
  },
  {
   "cell_type": "code",
   "execution_count": 42,
   "id": "46e327b5-f83b-463c-bf00-9f2f5b004ae3",
   "metadata": {},
   "outputs": [
    {
     "data": {
      "text/plain": [
       "'clark kent'"
      ]
     },
     "execution_count": 42,
     "metadata": {},
     "output_type": "execute_result"
    }
   ],
   "source": [
    "superman.isim"
   ]
  },
  {
   "cell_type": "code",
   "execution_count": 43,
   "id": "61f2bd04-f3b7-4258-8ffc-03cdc594295b",
   "metadata": {},
   "outputs": [
    {
     "data": {
      "text/plain": [
       "'görünmezlik'"
      ]
     },
     "execution_count": 43,
     "metadata": {},
     "output_type": "execute_result"
    }
   ],
   "source": [
    "superman.ozelGuc"
   ]
  },
  {
   "cell_type": "code",
   "execution_count": 44,
   "id": "0cb5d180-2674-4573-952e-f52b5fa35aa9",
   "metadata": {},
   "outputs": [
    {
     "name": "stdout",
     "output_type": "stream",
     "text": [
      "ben superkahramanım ve mesleğim: gazeteci\n"
     ]
    }
   ],
   "source": [
    "superman.method() "
   ]
  },
  {
   "cell_type": "code",
   "execution_count": 45,
   "id": "aafad506-4541-432b-a086-49814bfd5839",
   "metadata": {},
   "outputs": [],
   "source": [
    "class kopek():\n",
    "    def __init__(self, yas):\n",
    "        self.yas = yas"
   ]
  },
  {
   "cell_type": "code",
   "execution_count": 46,
   "id": "73cbf17a-79d6-459a-b201-2be7768546e2",
   "metadata": {},
   "outputs": [],
   "source": [
    "a = kopek(3)"
   ]
  },
  {
   "cell_type": "code",
   "execution_count": 47,
   "id": "738d3165-d7ea-4c60-b25e-0b1f077a5f06",
   "metadata": {},
   "outputs": [
    {
     "data": {
      "text/plain": [
       "<__main__.kopek at 0x10766d4f0>"
      ]
     },
     "execution_count": 47,
     "metadata": {},
     "output_type": "execute_result"
    }
   ],
   "source": [
    "a"
   ]
  },
  {
   "cell_type": "code",
   "execution_count": 48,
   "id": "b9745864-bd21-4289-8e3c-91a48812fda5",
   "metadata": {},
   "outputs": [
    {
     "data": {
      "text/plain": [
       "3"
      ]
     },
     "execution_count": 48,
     "metadata": {},
     "output_type": "execute_result"
    }
   ],
   "source": [
    "a.yas"
   ]
  },
  {
   "cell_type": "code",
   "execution_count": 58,
   "id": "2e09c886-5ac1-4f1e-bec6-394e9faf5bc9",
   "metadata": {},
   "outputs": [],
   "source": [
    "class kopek():\n",
    "    \n",
    "    yıl = 7\n",
    "    \n",
    "    def __init__(self, yas = 5):\n",
    "        self.yas = yas\n",
    "        \n",
    "    def insanYasi(self):\n",
    "        return self.yas * self.yıl"
   ]
  },
  {
   "cell_type": "code",
   "execution_count": 59,
   "id": "3a8df5c1-2287-42bb-b540-c71aebb84593",
   "metadata": {},
   "outputs": [],
   "source": [
    "a = kopek()"
   ]
  },
  {
   "cell_type": "code",
   "execution_count": 60,
   "id": "ebc1425e-1f69-4a8d-baea-6a71339442d8",
   "metadata": {},
   "outputs": [
    {
     "data": {
      "text/plain": [
       "5"
      ]
     },
     "execution_count": 60,
     "metadata": {},
     "output_type": "execute_result"
    }
   ],
   "source": [
    "a.yas"
   ]
  },
  {
   "cell_type": "code",
   "execution_count": 61,
   "id": "bed5177f-2850-48ac-a738-354170b00b82",
   "metadata": {},
   "outputs": [
    {
     "data": {
      "text/plain": [
       "35"
      ]
     },
     "execution_count": 61,
     "metadata": {},
     "output_type": "execute_result"
    }
   ],
   "source": [
    "a.insanYasi()"
   ]
  },
  {
   "cell_type": "markdown",
   "id": "54140391-f34a-4083-8eb0-a1d9608de594",
   "metadata": {},
   "source": [
    "> **inheritance**"
   ]
  },
  {
   "cell_type": "code",
   "execution_count": 62,
   "id": "da5dffe1-55ff-4000-9e66-3556324ffb99",
   "metadata": {},
   "outputs": [],
   "source": [
    "class hayvan():\n",
    "    def __init__(self):\n",
    "        print(\"hayvan sınıfı init çağrıldı\")\n",
    "        \n",
    "    def method1(self):\n",
    "        print(\"hayvan sınıfı method1 çağrıldı\")\n",
    "        \n",
    "    def method2(self):\n",
    "        print(\"hayvan sınıfı method2 çağrıldı\")"
   ]
  },
  {
   "cell_type": "code",
   "execution_count": 63,
   "id": "6a606716-6675-4df5-bcaf-b35f5d4c6226",
   "metadata": {},
   "outputs": [
    {
     "name": "stdout",
     "output_type": "stream",
     "text": [
      "hayvan sınıfı init çağrıldı\n"
     ]
    }
   ],
   "source": [
    "h = hayvan()"
   ]
  },
  {
   "cell_type": "code",
   "execution_count": 66,
   "id": "ad9abeda-fdca-4a61-b9d1-5c62d9cb3cd9",
   "metadata": {},
   "outputs": [
    {
     "name": "stdout",
     "output_type": "stream",
     "text": [
      "hayvan sınıfı method1 çağrıldı\n"
     ]
    }
   ],
   "source": [
    "h.method1()"
   ]
  },
  {
   "cell_type": "code",
   "execution_count": 67,
   "id": "fb092d07-ae3f-46ef-807b-36f745a87df5",
   "metadata": {},
   "outputs": [
    {
     "name": "stdout",
     "output_type": "stream",
     "text": [
      "hayvan sınıfı method2 çağrıldı\n"
     ]
    }
   ],
   "source": [
    "h.method2()"
   ]
  },
  {
   "cell_type": "code",
   "execution_count": 81,
   "id": "e75ceec3-e7fd-491d-9ac1-a9834f110140",
   "metadata": {},
   "outputs": [],
   "source": [
    "class kedi(hayvan):\n",
    "    def __init__(self):\n",
    "        hayvan.__init__(self)\n",
    "        print(\"hayvan sınıfı init çağrıldı\")\n",
    "\n",
    "    def miyavla(self):\n",
    "        print(\"miyav\")\n",
    "\n",
    "    #override\n",
    "    def method1(self):\n",
    "        print(\"kedi sınıfı method1 çağrıldı\")"
   ]
  },
  {
   "cell_type": "code",
   "execution_count": 82,
   "id": "85b043fc-9d97-43a2-b937-b92d726e4a26",
   "metadata": {},
   "outputs": [
    {
     "name": "stdout",
     "output_type": "stream",
     "text": [
      "hayvan sınıfı init çağrıldı\n",
      "hayvan sınıfı init çağrıldı\n"
     ]
    }
   ],
   "source": [
    "k = kedi()"
   ]
  },
  {
   "cell_type": "code",
   "execution_count": 83,
   "id": "d7a0a68a-d6dc-4830-b9ee-d1227bc1fcdf",
   "metadata": {},
   "outputs": [
    {
     "name": "stdout",
     "output_type": "stream",
     "text": [
      "kedi sınıfı method1 çağrıldı\n"
     ]
    }
   ],
   "source": [
    "k.method1()"
   ]
  },
  {
   "cell_type": "code",
   "execution_count": 84,
   "id": "e4c5ad5a-e2e0-4aa7-a16f-46192828a7e2",
   "metadata": {},
   "outputs": [
    {
     "name": "stdout",
     "output_type": "stream",
     "text": [
      "miyav\n"
     ]
    }
   ],
   "source": [
    "k.miyavla()"
   ]
  },
  {
   "cell_type": "code",
   "execution_count": 85,
   "id": "19174593-ee04-4ae4-8114-531d3becff86",
   "metadata": {},
   "outputs": [
    {
     "name": "stdout",
     "output_type": "stream",
     "text": [
      "hayvan sınıfı method1 çağrıldı\n"
     ]
    }
   ],
   "source": [
    "h.method1()"
   ]
  },
  {
   "cell_type": "markdown",
   "id": "681e4fce-f949-496b-92bf-2c98e2a7cf82",
   "metadata": {},
   "source": [
    "> **polymorphism**"
   ]
  },
  {
   "cell_type": "code",
   "execution_count": 1,
   "id": "35d2067c-41ff-4611-b2a4-63100dc90ddd",
   "metadata": {},
   "outputs": [],
   "source": [
    "#aynı isimde metotların farklı amaçlarda kullanılabilmesi"
   ]
  },
  {
   "cell_type": "code",
   "execution_count": 20,
   "id": "80eafe06-1f51-4229-8e8b-644301f020c1",
   "metadata": {},
   "outputs": [],
   "source": [
    "class Elma():\n",
    "    def __init__(self, isim):\n",
    "        self.isim = isim\n",
    "\n",
    "    def bilgiVer(self):\n",
    "        return self.isim + \"100 kaloridir\""
   ]
  },
  {
   "cell_type": "code",
   "execution_count": 21,
   "id": "53b38967-80ca-45d6-bcdb-288ef4270399",
   "metadata": {},
   "outputs": [],
   "source": [
    "class Muz():\n",
    "    def __init__(self, isim):\n",
    "        self.isim = isim\n",
    "\n",
    "    def bilgiVer(self):\n",
    "        return self.isim + \"150 kaloridir\""
   ]
  },
  {
   "cell_type": "code",
   "execution_count": 22,
   "id": "6c54fa1f-ca15-4c52-bc54-0ee9e9057028",
   "metadata": {},
   "outputs": [],
   "source": [
    "elma = Elma(\"elma\")"
   ]
  },
  {
   "cell_type": "code",
   "execution_count": 14,
   "id": "f9216ccc-1f93-4b65-9d34-42877bdf02f2",
   "metadata": {},
   "outputs": [
    {
     "data": {
      "text/plain": [
       "'elma150 kaloridir'"
      ]
     },
     "execution_count": 14,
     "metadata": {},
     "output_type": "execute_result"
    }
   ],
   "source": [
    "elma.bilgiVer()"
   ]
  },
  {
   "cell_type": "code",
   "execution_count": 15,
   "id": "3accb239-cedc-45d1-a1e3-890ba14f8574",
   "metadata": {},
   "outputs": [],
   "source": [
    "muz = Muz(\"muz\")"
   ]
  },
  {
   "cell_type": "code",
   "execution_count": 17,
   "id": "d921da6d-7fb7-4ec2-b864-698bc38519f8",
   "metadata": {},
   "outputs": [
    {
     "data": {
      "text/plain": [
       "'muz150 kaloridir'"
      ]
     },
     "execution_count": 17,
     "metadata": {},
     "output_type": "execute_result"
    }
   ],
   "source": [
    "muz.bilgiVer()"
   ]
  },
  {
   "cell_type": "code",
   "execution_count": 18,
   "id": "00df4c8e-3a10-4d45-90cf-71dd9e54c943",
   "metadata": {},
   "outputs": [],
   "source": [
    "meyveler = [elma, muz]"
   ]
  },
  {
   "cell_type": "code",
   "execution_count": 19,
   "id": "e9a10629-a4a7-4bac-b00a-27bdc205347c",
   "metadata": {},
   "outputs": [
    {
     "name": "stdout",
     "output_type": "stream",
     "text": [
      "elma150 kaloridir\n",
      "muz150 kaloridir\n"
     ]
    }
   ],
   "source": [
    "for meyve in meyveler:\n",
    "    print(meyve.bilgiVer())"
   ]
  },
  {
   "cell_type": "code",
   "execution_count": 23,
   "id": "445ba81f-8c7c-4d05-9c5e-3aad744725ab",
   "metadata": {},
   "outputs": [],
   "source": [
    "def bilgiAl(meyve):\n",
    "    print(meyve.bilgiVer())"
   ]
  },
  {
   "cell_type": "code",
   "execution_count": 24,
   "id": "5d05bb8d-7879-41ca-b033-6a8ff99f5c50",
   "metadata": {},
   "outputs": [
    {
     "name": "stdout",
     "output_type": "stream",
     "text": [
      "muz150 kaloridir\n"
     ]
    }
   ],
   "source": [
    "bilgiAl(muz)"
   ]
  },
  {
   "cell_type": "code",
   "execution_count": 25,
   "id": "ddce38b4-bb44-4507-b921-5e2de17ac84b",
   "metadata": {},
   "outputs": [
    {
     "name": "stdout",
     "output_type": "stream",
     "text": [
      "elma100 kaloridir\n"
     ]
    }
   ],
   "source": [
    "bilgiAl(elma)"
   ]
  },
  {
   "cell_type": "code",
   "execution_count": null,
   "id": "46db8e22-455c-474f-97c6-ab03e82a07fb",
   "metadata": {},
   "outputs": [],
   "source": []
  }
 ],
 "metadata": {
  "kernelspec": {
   "display_name": "Python 3 (ipykernel)",
   "language": "python",
   "name": "python3"
  },
  "language_info": {
   "codemirror_mode": {
    "name": "ipython",
    "version": 3
   },
   "file_extension": ".py",
   "mimetype": "text/x-python",
   "name": "python",
   "nbconvert_exporter": "python",
   "pygments_lexer": "ipython3",
   "version": "3.12.7"
  }
 },
 "nbformat": 4,
 "nbformat_minor": 5
}
