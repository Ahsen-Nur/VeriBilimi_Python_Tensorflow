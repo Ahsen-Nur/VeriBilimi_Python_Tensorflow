{
 "cells": [
  {
   "cell_type": "code",
   "execution_count": 1,
   "id": "71acb01e-3d6a-4ea4-9cf7-441de77bc0ab",
   "metadata": {},
   "outputs": [],
   "source": [
    "isim = \"Ahsen Nur ALDAŞ\""
   ]
  },
  {
   "cell_type": "code",
   "execution_count": 2,
   "id": "c0828814-1e5f-40e0-bd9b-ca8d9812d35c",
   "metadata": {},
   "outputs": [
    {
     "data": {
      "text/plain": [
       "'AHSEN NUR ALDAŞ'"
      ]
     },
     "execution_count": 2,
     "metadata": {},
     "output_type": "execute_result"
    }
   ],
   "source": [
    "isim.upper()"
   ]
  },
  {
   "cell_type": "code",
   "execution_count": 3,
   "id": "11cf982b-77be-48f3-a3e7-bcf9323899b8",
   "metadata": {},
   "outputs": [],
   "source": [
    "def ilkFonk():\n",
    "    print(\"ilk fonk.\")"
   ]
  },
  {
   "cell_type": "markdown",
   "id": "c9f393ee-47bd-4703-9465-51b333a830e8",
   "metadata": {},
   "source": [
    ">**input & return**"
   ]
  },
  {
   "cell_type": "code",
   "execution_count": 4,
   "id": "510483bc-1b1e-462c-b583-bd4284dabf61",
   "metadata": {},
   "outputs": [],
   "source": [
    "def gir(girdi):\n",
    "    print(\"merhaba\")\n",
    "    print(girdi)"
   ]
  },
  {
   "cell_type": "code",
   "execution_count": 5,
   "id": "f59caf1f-3ef8-479a-90be-2e29e0dc98bb",
   "metadata": {},
   "outputs": [
    {
     "name": "stdout",
     "output_type": "stream",
     "text": [
      "merhaba\n",
      "ahsen\n"
     ]
    }
   ],
   "source": [
    "gir(\"ahsen\")"
   ]
  },
  {
   "cell_type": "code",
   "execution_count": 6,
   "id": "bf8eda6b-489b-4516-b0f4-945957bfe096",
   "metadata": {},
   "outputs": [],
   "source": [
    "def gir(girdi = \"ahsen\"):\n",
    "    print(\"merhaba\")\n",
    "    print(girdi)"
   ]
  },
  {
   "cell_type": "code",
   "execution_count": 7,
   "id": "51560190-d8a0-427a-88c0-b42db989ee53",
   "metadata": {},
   "outputs": [
    {
     "name": "stdout",
     "output_type": "stream",
     "text": [
      "merhaba\n",
      "ahsen\n"
     ]
    }
   ],
   "source": [
    "gir()"
   ]
  },
  {
   "cell_type": "code",
   "execution_count": 8,
   "id": "0c5b8800-c39b-458b-8f9f-775f3006bfde",
   "metadata": {},
   "outputs": [
    {
     "name": "stdout",
     "output_type": "stream",
     "text": [
      "merhaba\n",
      "nur\n"
     ]
    }
   ],
   "source": [
    "gir(\"nur\")"
   ]
  },
  {
   "cell_type": "code",
   "execution_count": 9,
   "id": "af521562-3e83-4d80-9fe7-4004fccc9612",
   "metadata": {},
   "outputs": [],
   "source": [
    "def topla(no1, no2):\n",
    "    sonuc = no1 + no2\n",
    "    print(sonuc)"
   ]
  },
  {
   "cell_type": "code",
   "execution_count": 10,
   "id": "fc31ffea-6f4d-422b-a3aa-3062c851395c",
   "metadata": {},
   "outputs": [
    {
     "name": "stdout",
     "output_type": "stream",
     "text": [
      "30\n"
     ]
    }
   ],
   "source": [
    "topla(10, 20)"
   ]
  },
  {
   "cell_type": "code",
   "execution_count": 11,
   "id": "651867e9-9713-4106-9136-c84df5b5a19b",
   "metadata": {},
   "outputs": [],
   "source": [
    "def topla(no1, no2):\n",
    "    print(no1 + no2)"
   ]
  },
  {
   "cell_type": "code",
   "execution_count": 12,
   "id": "8db96025-8df0-480d-b352-1b1f3a5fe6e6",
   "metadata": {},
   "outputs": [
    {
     "name": "stdout",
     "output_type": "stream",
     "text": [
      "30\n"
     ]
    }
   ],
   "source": [
    "topla(10, 20)"
   ]
  },
  {
   "cell_type": "code",
   "execution_count": 13,
   "id": "3194d2ac-c403-4b1e-b976-810d2b2ef335",
   "metadata": {},
   "outputs": [
    {
     "name": "stdout",
     "output_type": "stream",
     "text": [
      "30\n"
     ]
    }
   ],
   "source": [
    "x = topla(10, 20)"
   ]
  },
  {
   "cell_type": "code",
   "execution_count": 14,
   "id": "1501693d-20de-4c16-ad0f-18cf521e33a7",
   "metadata": {},
   "outputs": [],
   "source": [
    "x"
   ]
  },
  {
   "cell_type": "code",
   "execution_count": 15,
   "id": "aecabf3d-38c2-4eb6-aef0-7139fdbd4cd5",
   "metadata": {},
   "outputs": [
    {
     "name": "stdout",
     "output_type": "stream",
     "text": [
      "None\n"
     ]
    }
   ],
   "source": [
    "print(x)"
   ]
  },
  {
   "cell_type": "code",
   "execution_count": 1,
   "id": "d530d7bf-03ef-471c-b8ba-89f1926aa699",
   "metadata": {},
   "outputs": [],
   "source": [
    "def top(x1, x2):\n",
    "    return x1 + x2"
   ]
  },
  {
   "cell_type": "code",
   "execution_count": 2,
   "id": "39c381a4-0042-4b76-b7b1-b95716dd2341",
   "metadata": {},
   "outputs": [],
   "source": [
    "sonuc = top(10, 20)"
   ]
  },
  {
   "cell_type": "code",
   "execution_count": 3,
   "id": "eaf442e7-6bfe-40e1-bbf9-27f5ab648360",
   "metadata": {},
   "outputs": [
    {
     "data": {
      "text/plain": [
       "30"
      ]
     },
     "execution_count": 3,
     "metadata": {},
     "output_type": "execute_result"
    }
   ],
   "source": [
    "sonuc"
   ]
  },
  {
   "cell_type": "code",
   "execution_count": 5,
   "id": "5f6e6e72-7c96-42da-8b3e-285b7e2099ba",
   "metadata": {},
   "outputs": [],
   "source": [
    "def kontrol(s):\n",
    "    if s == \"atıl\":\n",
    "        print(\"string doğru\")\n",
    "    else:\n",
    "        print(\"string yanlış\")"
   ]
  },
  {
   "cell_type": "code",
   "execution_count": 6,
   "id": "5d74d0cc-752e-4ce6-8710-7559fe7dd36e",
   "metadata": {},
   "outputs": [
    {
     "name": "stdout",
     "output_type": "stream",
     "text": [
      "string doğru\n"
     ]
    }
   ],
   "source": [
    "kontrol(\"atıl\")"
   ]
  },
  {
   "cell_type": "code",
   "execution_count": 7,
   "id": "19d8f9f8-fdb8-4a34-b6aa-95e83fa47be7",
   "metadata": {},
   "outputs": [
    {
     "name": "stdout",
     "output_type": "stream",
     "text": [
      "string yanlış\n"
     ]
    }
   ],
   "source": [
    "kontrol(\"atı\")"
   ]
  },
  {
   "cell_type": "markdown",
   "id": "2df9f190-d174-4881-a22b-a4541c8bd74d",
   "metadata": {},
   "source": [
    ">**args & kwargs**"
   ]
  },
  {
   "cell_type": "code",
   "execution_count": 29,
   "id": "7c2beb0c-3a2a-45fd-bab4-7a0ca7db20e2",
   "metadata": {},
   "outputs": [],
   "source": [
    "def f(*args):\n",
    "    print(args)"
   ]
  },
  {
   "cell_type": "code",
   "execution_count": 30,
   "id": "4099de2d-e7a1-403b-9dfc-54479b6c9537",
   "metadata": {},
   "outputs": [
    {
     "name": "stdout",
     "output_type": "stream",
     "text": [
      "(10, 20, 30)\n"
     ]
    }
   ],
   "source": [
    "f(10, 20, 30)"
   ]
  },
  {
   "cell_type": "code",
   "execution_count": 37,
   "id": "ec1b1c2e-39e0-4fdf-9edd-6207ac6c65db",
   "metadata": {},
   "outputs": [],
   "source": [
    "def fonk(**kwargs):\n",
    "    print(kwargs)"
   ]
  },
  {
   "cell_type": "code",
   "execution_count": 38,
   "id": "ec2f1ae6-5dd0-4be3-a11c-4a301c7b336d",
   "metadata": {},
   "outputs": [
    {
     "name": "stdout",
     "output_type": "stream",
     "text": [
      "{'muz': 100, 'elma': 200}\n"
     ]
    }
   ],
   "source": [
    "fonk(muz = 100, elma = 200)"
   ]
  },
  {
   "cell_type": "code",
   "execution_count": 39,
   "id": "c4d615a6-be25-47c6-9de1-96777408976a",
   "metadata": {},
   "outputs": [],
   "source": [
    "def x(**kwargs):\n",
    "    if \"atıl\" in kwargs:\n",
    "        print(\"atıl var\")\n",
    "    else:\n",
    "        print(\"atıl yok\")"
   ]
  },
  {
   "cell_type": "code",
   "execution_count": 40,
   "id": "f613731e-f650-47b5-8985-3c582c9e739e",
   "metadata": {},
   "outputs": [
    {
     "name": "stdout",
     "output_type": "stream",
     "text": [
      "atıl var\n"
     ]
    }
   ],
   "source": [
    "x(atıl = 70, ali = 40, ayşe = 50)"
   ]
  }
 ],
 "metadata": {
  "kernelspec": {
   "display_name": "Python 3 (ipykernel)",
   "language": "python",
   "name": "python3"
  },
  "language_info": {
   "codemirror_mode": {
    "name": "ipython",
    "version": 3
   },
   "file_extension": ".py",
   "mimetype": "text/x-python",
   "name": "python",
   "nbconvert_exporter": "python",
   "pygments_lexer": "ipython3",
   "version": "3.12.7"
  }
 },
 "nbformat": 4,
 "nbformat_minor": 5
}
