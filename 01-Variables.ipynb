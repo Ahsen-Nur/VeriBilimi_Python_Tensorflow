{
 "cells": [
  {
   "cell_type": "code",
   "execution_count": 1,
   "id": "c397e845-ba4b-4bae-89ed-6a47c2854b9e",
   "metadata": {},
   "outputs": [],
   "source": [
    "x = 5\n",
    "y = 4"
   ]
  },
  {
   "cell_type": "code",
   "execution_count": 2,
   "id": "e691afd4-0db7-4f20-a287-37dd466077fc",
   "metadata": {},
   "outputs": [
    {
     "data": {
      "text/plain": [
       "20"
      ]
     },
     "execution_count": 2,
     "metadata": {},
     "output_type": "execute_result"
    }
   ],
   "source": [
    "x * y"
   ]
  },
  {
   "cell_type": "code",
   "execution_count": 3,
   "id": "a5c5714b-9f03-43fa-b713-dff54210234d",
   "metadata": {},
   "outputs": [],
   "source": [
    "x = 6"
   ]
  },
  {
   "cell_type": "code",
   "execution_count": 4,
   "id": "327dae4e-2255-4c9b-a480-942409adf1f1",
   "metadata": {},
   "outputs": [
    {
     "data": {
      "text/plain": [
       "24"
      ]
     },
     "execution_count": 4,
     "metadata": {},
     "output_type": "execute_result"
    }
   ],
   "source": [
    "x * y"
   ]
  },
  {
   "cell_type": "code",
   "execution_count": 5,
   "id": "1997ca47-e1a2-48d6-8b8c-77c7439f33bb",
   "metadata": {},
   "outputs": [
    {
     "data": {
      "text/plain": [
       "40"
      ]
     },
     "execution_count": 5,
     "metadata": {},
     "output_type": "execute_result"
    }
   ],
   "source": [
    "y * 10"
   ]
  },
  {
   "cell_type": "markdown",
   "id": "e5b12e3a-a396-4f67-9400-23c347e547fd",
   "metadata": {},
   "source": [
    "## **integer & float**"
   ]
  },
  {
   "cell_type": "code",
   "execution_count": 6,
   "id": "2fd0fef6-f9d3-4018-aa7a-2319e9dd60e6",
   "metadata": {},
   "outputs": [],
   "source": [
    "degisken1 = 10\n",
    "degisken2 = 20"
   ]
  },
  {
   "cell_type": "code",
   "execution_count": 16,
   "id": "9cc1e16b-df8c-4c00-a879-2d0ae25d540c",
   "metadata": {},
   "outputs": [
    {
     "data": {
      "text/plain": [
       "0.5"
      ]
     },
     "execution_count": 16,
     "metadata": {},
     "output_type": "execute_result"
    }
   ],
   "source": [
    "degisken1 / degisken2"
   ]
  },
  {
   "cell_type": "code",
   "execution_count": 17,
   "id": "33c7261f-5e23-4866-af06-125f2eeb84d5",
   "metadata": {},
   "outputs": [
    {
     "data": {
      "text/plain": [
       "int"
      ]
     },
     "execution_count": 17,
     "metadata": {},
     "output_type": "execute_result"
    }
   ],
   "source": [
    "type(degisken1)"
   ]
  },
  {
   "cell_type": "code",
   "execution_count": 18,
   "id": "3031aa28-bb79-4ceb-8b34-ffe9378bae96",
   "metadata": {},
   "outputs": [],
   "source": [
    "sonuc = degisken1 / degisken2"
   ]
  },
  {
   "cell_type": "code",
   "execution_count": 19,
   "id": "b35d73e8-2807-468b-9607-862f3f8576d2",
   "metadata": {},
   "outputs": [
    {
     "data": {
      "text/plain": [
       "float"
      ]
     },
     "execution_count": 19,
     "metadata": {},
     "output_type": "execute_result"
    }
   ],
   "source": [
    "type(sonuc)"
   ]
  },
  {
   "cell_type": "code",
   "execution_count": 20,
   "id": "1ecaf9e1-e9ea-44e8-8b9d-f46db52bc296",
   "metadata": {},
   "outputs": [],
   "source": [
    "pi = 3.14\n",
    "a = 2"
   ]
  },
  {
   "cell_type": "code",
   "execution_count": 21,
   "id": "178dc819-cb26-4f4c-8e31-f16f9cc04067",
   "metadata": {},
   "outputs": [
    {
     "data": {
      "text/plain": [
       "6.28"
      ]
     },
     "execution_count": 21,
     "metadata": {},
     "output_type": "execute_result"
    }
   ],
   "source": [
    "pi * a"
   ]
  },
  {
   "cell_type": "code",
   "execution_count": 22,
   "id": "6c4f9f45-7dce-4a40-bf17-7c0d518bcc76",
   "metadata": {},
   "outputs": [
    {
     "data": {
      "text/plain": [
       "625"
      ]
     },
     "execution_count": 22,
     "metadata": {},
     "output_type": "execute_result"
    }
   ],
   "source": [
    "x = 5\n",
    "x ** 4"
   ]
  },
  {
   "cell_type": "code",
   "execution_count": 14,
   "id": "ca882251-6d50-4617-903f-8d6da6a500ec",
   "metadata": {},
   "outputs": [
    {
     "data": {
      "text/plain": [
       "0"
      ]
     },
     "execution_count": 14,
     "metadata": {},
     "output_type": "execute_result"
    }
   ],
   "source": [
    "10 % 2"
   ]
  },
  {
   "cell_type": "code",
   "execution_count": 15,
   "id": "60beebdd-9f63-4bb4-aa3b-0d6ea96c96ee",
   "metadata": {},
   "outputs": [
    {
     "name": "stdin",
     "output_type": "stream",
     "text": [
      "yas gir: 10\n"
     ]
    }
   ],
   "source": [
    "yas = input(\"yas gir:\")"
   ]
  },
  {
   "cell_type": "code",
   "execution_count": 23,
   "id": "64fafd73-fc6c-4d96-b338-41e92c97fae3",
   "metadata": {},
   "outputs": [
    {
     "data": {
      "text/plain": [
       "'1010101010'"
      ]
     },
     "execution_count": 23,
     "metadata": {},
     "output_type": "execute_result"
    }
   ],
   "source": [
    "yas * 5"
   ]
  },
  {
   "cell_type": "code",
   "execution_count": 24,
   "id": "4204f96b-c090-4c4b-91da-63aeae58d0d2",
   "metadata": {},
   "outputs": [
    {
     "data": {
      "text/plain": [
       "50"
      ]
     },
     "execution_count": 24,
     "metadata": {},
     "output_type": "execute_result"
    }
   ],
   "source": [
    "int(yas) * 5"
   ]
  },
  {
   "cell_type": "code",
   "execution_count": 24,
   "id": "a1bdb1f8-a523-47c7-9dff-9759705d48b9",
   "metadata": {},
   "outputs": [],
   "source": [
    "a = \"ahsen\""
   ]
  },
  {
   "cell_type": "code",
   "execution_count": 25,
   "id": "eec1b4b3-24c9-47aa-926f-4c9f1a2f1890",
   "metadata": {},
   "outputs": [
    {
     "data": {
      "text/plain": [
       "'Ahsen'"
      ]
     },
     "execution_count": 25,
     "metadata": {},
     "output_type": "execute_result"
    }
   ],
   "source": [
    "a.capitalize()"
   ]
  },
  {
   "cell_type": "code",
   "execution_count": 26,
   "id": "901b4860-7706-4bf8-801d-d4358632a949",
   "metadata": {},
   "outputs": [
    {
     "data": {
      "text/plain": [
       "True"
      ]
     },
     "execution_count": 26,
     "metadata": {},
     "output_type": "execute_result"
    }
   ],
   "source": [
    "a.isalnum()"
   ]
  },
  {
   "cell_type": "code",
   "execution_count": 1,
   "id": "da655cb5-3287-4dd1-9f1a-0bea2f615553",
   "metadata": {},
   "outputs": [
    {
     "name": "stdin",
     "output_type": "stream",
     "text": [
      "yas gir:  10\n"
     ]
    }
   ],
   "source": [
    "yası = input(\"yas gir: \")"
   ]
  },
  {
   "cell_type": "code",
   "execution_count": 2,
   "id": "2bdd0af7-7fb6-47d7-be8b-24a0e632f41f",
   "metadata": {},
   "outputs": [
    {
     "data": {
      "text/plain": [
       "str"
      ]
     },
     "execution_count": 2,
     "metadata": {},
     "output_type": "execute_result"
    }
   ],
   "source": [
    "type(yası)"
   ]
  },
  {
   "cell_type": "code",
   "execution_count": 3,
   "id": "d036ce16-e340-4e28-bb1d-c715a1b4f01f",
   "metadata": {},
   "outputs": [],
   "source": [
    "yasıInt = int(yası)"
   ]
  },
  {
   "cell_type": "code",
   "execution_count": 4,
   "id": "4747ca93-c349-47ff-8fe5-799bc62f067e",
   "metadata": {},
   "outputs": [
    {
     "data": {
      "text/plain": [
       "50"
      ]
     },
     "execution_count": 4,
     "metadata": {},
     "output_type": "execute_result"
    }
   ],
   "source": [
    "yasıInt * 5"
   ]
  },
  {
   "cell_type": "code",
   "execution_count": 5,
   "id": "9b3faeaa-dbd8-4098-b315-7be0cbf30b20",
   "metadata": {},
   "outputs": [],
   "source": [
    "isim = \"Ahsen Nur ALDAŞ\""
   ]
  },
  {
   "cell_type": "code",
   "execution_count": 6,
   "id": "e0053dde-0422-4ab2-b761-f9d65aadbd99",
   "metadata": {},
   "outputs": [
    {
     "data": {
      "text/plain": [
       "'Ah'"
      ]
     },
     "execution_count": 6,
     "metadata": {},
     "output_type": "execute_result"
    }
   ],
   "source": [
    "isim[0] + isim[1]"
   ]
  },
  {
   "cell_type": "markdown",
   "id": "3b258c39-d7c2-4c5b-b4a9-6738e1ef22b5",
   "metadata": {},
   "source": [
    "Slicing"
   ]
  },
  {
   "cell_type": "code",
   "execution_count": 7,
   "id": "5375d1cd-e535-4f72-a709-353bd90bcfd8",
   "metadata": {},
   "outputs": [
    {
     "data": {
      "text/plain": [
       "'hse'"
      ]
     },
     "execution_count": 7,
     "metadata": {},
     "output_type": "execute_result"
    }
   ],
   "source": [
    "isim[1:4] ## 1 den başla 4 e kadar"
   ]
  },
  {
   "cell_type": "code",
   "execution_count": 8,
   "id": "7cb0c75c-db4e-4d9c-999e-6626f4fcc705",
   "metadata": {},
   "outputs": [
    {
     "data": {
      "text/plain": [
       "'Ahs'"
      ]
     },
     "execution_count": 8,
     "metadata": {},
     "output_type": "execute_result"
    }
   ],
   "source": [
    "isim[:3]"
   ]
  },
  {
   "cell_type": "code",
   "execution_count": 9,
   "id": "9fb93fe5-bb1f-455b-9117-a1030b54aea5",
   "metadata": {},
   "outputs": [
    {
     "data": {
      "text/plain": [
       "'en Nur ALDAŞ'"
      ]
     },
     "execution_count": 9,
     "metadata": {},
     "output_type": "execute_result"
    }
   ],
   "source": [
    "isim[3:]"
   ]
  },
  {
   "cell_type": "code",
   "execution_count": 10,
   "id": "80fb3132-f35a-43d8-b43e-237d3a854ae8",
   "metadata": {},
   "outputs": [
    {
     "data": {
      "text/plain": [
       "'Ş'"
      ]
     },
     "execution_count": 10,
     "metadata": {},
     "output_type": "execute_result"
    }
   ],
   "source": [
    "isim[-1]"
   ]
  },
  {
   "cell_type": "code",
   "execution_count": 11,
   "id": "e32f0eb4-a107-4cc2-adb7-2a594ae066ed",
   "metadata": {},
   "outputs": [
    {
     "data": {
      "text/plain": [
       "''"
      ]
     },
     "execution_count": 11,
     "metadata": {},
     "output_type": "execute_result"
    }
   ],
   "source": [
    "isim[-5: 3]"
   ]
  },
  {
   "cell_type": "code",
   "execution_count": 13,
   "id": "3c916c59-b888-43a3-ad80-c383afcef1d3",
   "metadata": {},
   "outputs": [
    {
     "data": {
      "text/plain": [
       "'hsen Nur '"
      ]
     },
     "execution_count": 13,
     "metadata": {},
     "output_type": "execute_result"
    }
   ],
   "source": [
    "isim[1: -5]"
   ]
  },
  {
   "cell_type": "code",
   "execution_count": 14,
   "id": "72ccdd68-da59-419e-8fcb-8d1a4978f37f",
   "metadata": {},
   "outputs": [
    {
     "data": {
      "text/plain": [
       "'AeN D'"
      ]
     },
     "execution_count": 14,
     "metadata": {},
     "output_type": "execute_result"
    }
   ],
   "source": [
    "isim[::3] #step size"
   ]
  },
  {
   "cell_type": "code",
   "execution_count": 15,
   "id": "93cc3af7-8358-41ef-a5f2-192d257993d2",
   "metadata": {},
   "outputs": [
    {
     "data": {
      "text/plain": [
       "'Asn'"
      ]
     },
     "execution_count": 15,
     "metadata": {},
     "output_type": "execute_result"
    }
   ],
   "source": [
    "isim[0: 5: 2]"
   ]
  },
  {
   "cell_type": "code",
   "execution_count": 16,
   "id": "2b825c63-4d9a-4269-8948-b121394055e1",
   "metadata": {},
   "outputs": [
    {
     "data": {
      "text/plain": [
       "'ŞADLA ruN neshA'"
      ]
     },
     "execution_count": 16,
     "metadata": {},
     "output_type": "execute_result"
    }
   ],
   "source": [
    "isim[::-1]"
   ]
  },
  {
   "cell_type": "code",
   "execution_count": 17,
   "id": "31950a63-233c-4979-8a38-7d21879ab135",
   "metadata": {},
   "outputs": [
    {
     "data": {
      "text/plain": [
       "['Ahsen', 'Nur', 'ALDAŞ']"
      ]
     },
     "execution_count": 17,
     "metadata": {},
     "output_type": "execute_result"
    }
   ],
   "source": [
    "isim.split()"
   ]
  },
  {
   "cell_type": "code",
   "execution_count": null,
   "id": "05efe61a-9e6f-43f2-a1e7-8a63ba550cdd",
   "metadata": {},
   "outputs": [],
   "source": []
  }
 ],
 "metadata": {
  "kernelspec": {
   "display_name": "Python 3 (ipykernel)",
   "language": "python",
   "name": "python3"
  },
  "language_info": {
   "codemirror_mode": {
    "name": "ipython",
    "version": 3
   },
   "file_extension": ".py",
   "mimetype": "text/x-python",
   "name": "python",
   "nbconvert_exporter": "python",
   "pygments_lexer": "ipython3",
   "version": "3.12.2"
  }
 },
 "nbformat": 4,
 "nbformat_minor": 5
}
