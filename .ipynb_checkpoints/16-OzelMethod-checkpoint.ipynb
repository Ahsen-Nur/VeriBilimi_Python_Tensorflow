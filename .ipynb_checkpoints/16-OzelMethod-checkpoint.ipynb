{
 "cells": [
  {
   "cell_type": "code",
   "execution_count": 24,
   "id": "8f94a39c-db57-450e-b98a-70114be2d5f0",
   "metadata": {},
   "outputs": [],
   "source": [
    "class Meyve():\n",
    "    def __init__(self, isim, kalori):\n",
    "        self.isim = isim\n",
    "        self.kalori = kalori\n",
    "\n",
    "    def __str__(self):\n",
    "        return f\"{self.isim} şu kadar kaloriye sahiptir : {self.kalori}\"\n",
    "\n",
    "    def __len__(self):\n",
    "        return self.kalori"
   ]
  },
  {
   "cell_type": "code",
   "execution_count": 25,
   "id": "eaa52a9c-85da-4e70-bef2-e77fa84131f4",
   "metadata": {},
   "outputs": [],
   "source": [
    "muz = Meyve(\"muz\", 150)"
   ]
  },
  {
   "cell_type": "code",
   "execution_count": 26,
   "id": "59ffd506-3423-4079-87ab-63036ecd2b43",
   "metadata": {},
   "outputs": [
    {
     "data": {
      "text/plain": [
       "150"
      ]
     },
     "execution_count": 26,
     "metadata": {},
     "output_type": "execute_result"
    }
   ],
   "source": [
    "muz.kalori"
   ]
  },
  {
   "cell_type": "code",
   "execution_count": 27,
   "id": "6ab70c0c-1828-4180-9fcc-68b90a196988",
   "metadata": {},
   "outputs": [
    {
     "name": "stdout",
     "output_type": "stream",
     "text": [
      "muz şu kadar kaloriye sahiptir : 150\n"
     ]
    }
   ],
   "source": [
    "print(muz)"
   ]
  },
  {
   "cell_type": "code",
   "execution_count": 28,
   "id": "b08da7c7-1e83-411c-999f-4005db116462",
   "metadata": {},
   "outputs": [],
   "source": [
    "l1 = [1, 2, 3, \"a\", 4.5]"
   ]
  },
  {
   "cell_type": "code",
   "execution_count": 29,
   "id": "f3d55f42-1791-4a7d-be50-2c81b557bdd1",
   "metadata": {},
   "outputs": [
    {
     "data": {
      "text/plain": [
       "5"
      ]
     },
     "execution_count": 29,
     "metadata": {},
     "output_type": "execute_result"
    }
   ],
   "source": [
    "len(l1)"
   ]
  },
  {
   "cell_type": "code",
   "execution_count": 30,
   "id": "56a87f8f-a70d-4c15-8801-d5c6c844c5a6",
   "metadata": {},
   "outputs": [
    {
     "data": {
      "text/plain": [
       "150"
      ]
     },
     "execution_count": 30,
     "metadata": {},
     "output_type": "execute_result"
    }
   ],
   "source": [
    "len(muz)"
   ]
  },
  {
   "cell_type": "code",
   "execution_count": 31,
   "id": "b11fb711-5b8b-450d-aa20-9fdd6c941e4b",
   "metadata": {},
   "outputs": [],
   "source": [
    "elma = Meyve(\"elma\", 300)"
   ]
  },
  {
   "cell_type": "code",
   "execution_count": 32,
   "id": "a74657f6-28ae-4580-9514-a118b32d8c82",
   "metadata": {},
   "outputs": [
    {
     "data": {
      "text/plain": [
       "300"
      ]
     },
     "execution_count": 32,
     "metadata": {},
     "output_type": "execute_result"
    }
   ],
   "source": [
    "elma.kalori"
   ]
  },
  {
   "cell_type": "code",
   "execution_count": null,
   "id": "c4a66ac9-7130-4ecc-86e8-1e006278b76d",
   "metadata": {},
   "outputs": [],
   "source": []
  }
 ],
 "metadata": {
  "kernelspec": {
   "display_name": "Python 3 (ipykernel)",
   "language": "python",
   "name": "python3"
  },
  "language_info": {
   "codemirror_mode": {
    "name": "ipython",
    "version": 3
   },
   "file_extension": ".py",
   "mimetype": "text/x-python",
   "name": "python",
   "nbconvert_exporter": "python",
   "pygments_lexer": "ipython3",
   "version": "3.12.7"
  }
 },
 "nbformat": 4,
 "nbformat_minor": 5
}
