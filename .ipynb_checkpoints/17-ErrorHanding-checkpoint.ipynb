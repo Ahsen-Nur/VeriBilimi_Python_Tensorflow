{
 "cells": [
  {
   "cell_type": "code",
   "execution_count": 2,
   "id": "d41e4eb3-9684-4cfe-9dbc-e682914c22b1",
   "metadata": {},
   "outputs": [],
   "source": [
    "def topla(no1, no2):\n",
    "    return no1 + no2"
   ]
  },
  {
   "cell_type": "code",
   "execution_count": 5,
   "id": "b5f1b6af-193b-4bc6-9c89-fb0cffead19a",
   "metadata": {},
   "outputs": [
    {
     "name": "stdin",
     "output_type": "stream",
     "text": [
      "no1:  2\n",
      "no2:  2\n"
     ]
    },
    {
     "data": {
      "text/plain": [
       "4"
      ]
     },
     "execution_count": 5,
     "metadata": {},
     "output_type": "execute_result"
    }
   ],
   "source": [
    "x = int(input(\"no1: \"))\n",
    "y = int(input(\"no2: \"))\n",
    "\n",
    "topla(x, y)"
   ]
  },
  {
   "cell_type": "markdown",
   "id": "f799f983-44a5-481b-8878-9c75907ac987",
   "metadata": {},
   "source": [
    " >**try & except & else & finally**"
   ]
  },
  {
   "cell_type": "code",
   "execution_count": 1,
   "id": "e43eafde-341d-4af9-a366-0a4d1b73513e",
   "metadata": {},
   "outputs": [
    {
     "name": "stdin",
     "output_type": "stream",
     "text": [
      "numara girin:  a\n"
     ]
    },
    {
     "name": "stdout",
     "output_type": "stream",
     "text": [
      "gerçek numara girin: \n",
      "finally çağrıldı\n"
     ]
    },
    {
     "name": "stdin",
     "output_type": "stream",
     "text": [
      "numara girin:  ddddeew\n"
     ]
    },
    {
     "name": "stdout",
     "output_type": "stream",
     "text": [
      "gerçek numara girin: \n",
      "finally çağrıldı\n"
     ]
    },
    {
     "name": "stdin",
     "output_type": "stream",
     "text": [
      "numara girin:  23\n"
     ]
    },
    {
     "name": "stdout",
     "output_type": "stream",
     "text": [
      "teşekkürler.\n",
      "finally çağrıldı\n"
     ]
    }
   ],
   "source": [
    "while True:\n",
    "    try:\n",
    "        benimInt = int(input(\"numara girin: \"))\n",
    "    except:\n",
    "        print(\"gerçek numara girin: \")\n",
    "        continue\n",
    "    else:\n",
    "        print(\"teşekkürler.\")\n",
    "        break\n",
    "    finally:\n",
    "        print(\"finally çağrıldı\")"
   ]
  },
  {
   "cell_type": "code",
   "execution_count": null,
   "id": "b942984a-9b36-4c61-9055-f6fed06303bd",
   "metadata": {},
   "outputs": [],
   "source": []
  }
 ],
 "metadata": {
  "kernelspec": {
   "display_name": "Python 3 (ipykernel)",
   "language": "python",
   "name": "python3"
  },
  "language_info": {
   "codemirror_mode": {
    "name": "ipython",
    "version": 3
   },
   "file_extension": ".py",
   "mimetype": "text/x-python",
   "name": "python",
   "nbconvert_exporter": "python",
   "pygments_lexer": "ipython3",
   "version": "3.12.7"
  }
 },
 "nbformat": 4,
 "nbformat_minor": 5
}
