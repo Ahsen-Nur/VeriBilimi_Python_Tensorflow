{
 "cells": [
  {
   "cell_type": "code",
   "execution_count": null,
   "id": "036c71df-f09f-4c26-9d5d-26f5aff9c9c6",
   "metadata": {},
   "outputs": [
    {
     "name": "stdin",
     "output_type": "stream",
     "text": [
      "ilk sayıyı gir 3\n",
      "ikinci sayıyı gir 2\n",
      "\n",
      "işlem seçin: + - * /\n",
      " *\n"
     ]
    },
    {
     "name": "stdout",
     "output_type": "stream",
     "text": [
      "3 * 2 = 6\n"
     ]
    },
    {
     "name": "stdin",
     "output_type": "stream",
     "text": [
      "ilk sayıyı gir 3\n"
     ]
    }
   ],
   "source": [
    "def hesapla(a, b, islem):\n",
    "    if islem == \"+\":\n",
    "        return (str(a) + \" + \" + str(b) + \" = \" + str(a + b))\n",
    "    elif islem == \"-\":\n",
    "        return (str(a) + \" - \" + str(b) + \" = \" + str(a - b))\n",
    "    elif islem == \"*\":\n",
    "        return (str(a) + \" * \" + str(b) + \" = \" + str(a * b))\n",
    "    elif islem == \"/\":\n",
    "        if b == 0:\n",
    "            print(\"\\nTanımsız.\")\n",
    "        else:\n",
    "            return (str(a) + \" / \" + str(b) + \" = \" + str(a / b))\n",
    "    else:\n",
    "        print(\"\\nGeçersiz seçim yaptınız !!! \\nTekrar deneyiniz. \")\n",
    "        #if islem not in \"+ - * /\" return \"\\nGeçersiz seçim yaptınız !!! \\nTekrar deneyiniz. \"\n",
    "\n",
    "        \n",
    "while True:\n",
    "    try:\n",
    "        a = int(input(\"ilk sayıyı gir: \"))\n",
    "        b = int(input(\"ikinci sayıyı gir: \"))\n",
    "        islem = input(\"\\nişlem seçin: + - * /\\n\")\n",
    "        print(hesapla(a, b, islem))\n",
    "    except:\n",
    "        print(\"Sayıları doğru girin !!!\")\n",
    "\n"
   ]
  },
  {
   "cell_type": "code",
   "execution_count": null,
   "id": "de64653e-eb3c-44bc-b6d4-ceb79086317f",
   "metadata": {},
   "outputs": [],
   "source": [
    "\n",
    "    "
   ]
  }
 ],
 "metadata": {
  "kernelspec": {
   "display_name": "Python 3 (ipykernel)",
   "language": "python",
   "name": "python3"
  },
  "language_info": {
   "codemirror_mode": {
    "name": "ipython",
    "version": 3
   },
   "file_extension": ".py",
   "mimetype": "text/x-python",
   "name": "python",
   "nbconvert_exporter": "python",
   "pygments_lexer": "ipython3",
   "version": "3.12.7"
  }
 },
 "nbformat": 4,
 "nbformat_minor": 5
}
