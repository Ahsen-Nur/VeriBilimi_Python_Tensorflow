{
 "cells": [
  {
   "cell_type": "code",
   "execution_count": 4,
   "id": "1c740b64-ba38-4676-bd50-68037260db4e",
   "metadata": {},
   "outputs": [
    {
     "name": "stdout",
     "output_type": "stream",
     "text": [
      "0\n",
      "4\n",
      "8\n"
     ]
    }
   ],
   "source": [
    "x = 0\n",
    "\n",
    "while x < 10:\n",
    "    print(x)\n",
    "    x += 4"
   ]
  },
  {
   "cell_type": "code",
   "execution_count": 8,
   "id": "e5bf285d-fc73-465b-93c6-9f6b17de6372",
   "metadata": {},
   "outputs": [],
   "source": [
    "liste = [1, 2, 3, 4, 5]"
   ]
  },
  {
   "cell_type": "code",
   "execution_count": 9,
   "id": "102cf55e-398e-45ea-bc2d-fcd128d598d5",
   "metadata": {},
   "outputs": [
    {
     "data": {
      "text/plain": [
       "5"
      ]
     },
     "execution_count": 9,
     "metadata": {},
     "output_type": "execute_result"
    }
   ],
   "source": [
    "liste.pop()"
   ]
  },
  {
   "cell_type": "code",
   "execution_count": 10,
   "id": "e3c2d12d-8eaa-46e9-af44-6a72367eeb75",
   "metadata": {},
   "outputs": [
    {
     "data": {
      "text/plain": [
       "[1, 2, 3, 4]"
      ]
     },
     "execution_count": 10,
     "metadata": {},
     "output_type": "execute_result"
    }
   ],
   "source": [
    "liste"
   ]
  },
  {
   "cell_type": "code",
   "execution_count": 8,
   "id": "d5b2dbfe-87c3-449c-ba7e-e77d3162e381",
   "metadata": {},
   "outputs": [
    {
     "name": "stdout",
     "output_type": "stream",
     "text": [
      "3 listede\n",
      "3 listede\n"
     ]
    }
   ],
   "source": [
    "while 3 in liste:\n",
    "    print(\"3 listede\")\n",
    "    liste.pop()"
   ]
  },
  {
   "cell_type": "code",
   "execution_count": 6,
   "id": "3919cade-bf95-4eb2-8621-59b7805d41db",
   "metadata": {},
   "outputs": [
    {
     "name": "stdout",
     "output_type": "stream",
     "text": [
      "0\n",
      "1\n",
      "2\n",
      "3\n"
     ]
    }
   ],
   "source": [
    "no = 0\n",
    "\n",
    "while no < 5:\n",
    "    if no == 4:\n",
    "        break\n",
    "    print(no)\n",
    "    no += 1"
   ]
  },
  {
   "cell_type": "code",
   "execution_count": 6,
   "id": "72f9443c-840d-48e3-bd0d-41dbfa199b93",
   "metadata": {},
   "outputs": [
    {
     "name": "stdout",
     "output_type": "stream",
     "text": [
      "a = 0\n",
      "a = 1\n",
      "a = 2\n",
      "a = 3\n",
      "a = 4\n",
      "a = 5\n",
      "a = 6\n",
      "a = 7\n",
      "a = 8\n",
      "a = 9\n",
      "a = 10\n",
      "a = 11\n",
      "a = 12\n",
      "a = 13\n",
      "a = 14\n"
     ]
    }
   ],
   "source": [
    "a = 0\n",
    "\n",
    "while a < 15:\n",
    "    #print(\"a = \" + str(a))\n",
    "    print(f\"a = {a}\")\n",
    "    a += 1"
   ]
  },
  {
   "cell_type": "code",
   "execution_count": null,
   "id": "48634d9f-4ed1-4822-8e1c-81b84c8a748f",
   "metadata": {},
   "outputs": [],
   "source": []
  }
 ],
 "metadata": {
  "kernelspec": {
   "display_name": "Python 3 (ipykernel)",
   "language": "python",
   "name": "python3"
  },
  "language_info": {
   "codemirror_mode": {
    "name": "ipython",
    "version": 3
   },
   "file_extension": ".py",
   "mimetype": "text/x-python",
   "name": "python",
   "nbconvert_exporter": "python",
   "pygments_lexer": "ipython3",
   "version": "3.12.2"
  }
 },
 "nbformat": 4,
 "nbformat_minor": 5
}
